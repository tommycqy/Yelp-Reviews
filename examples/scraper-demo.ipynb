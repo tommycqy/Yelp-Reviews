{
 "cells": [
  {
   "source": [
    "# DATA515 Yelp Reviews\n",
    "\n",
    "## Data Collection Demo\n",
    "Example of data collection using both Yelp Fusion API and web scraper.\n",
    "\n",
    "Note that all the functions in this notebook is modulized into python files in data_collection folder!\n",
    "\n",
    "This is just some of our early work!"
   ],
   "cell_type": "markdown",
   "metadata": {}
  },
  {
   "cell_type": "code",
   "execution_count": 1,
   "metadata": {},
   "outputs": [],
   "source": [
    "# setup library imports\n",
    "import io, time, json\n",
    "import requests\n",
    "import pandas as pd\n",
    "import numpy as np\n",
    "\n",
    "from pathlib import Path\n",
    "from bs4 import BeautifulSoup"
   ]
  },
  {
   "cell_type": "code",
   "execution_count": 2,
   "metadata": {},
   "outputs": [],
   "source": [
    "#Read the Yelp API key from file\n",
    "def read_api_key(filepath=\"api_key.txt\"):\n",
    "    return Path(filepath).read_text().strip()"
   ]
  },
  {
   "cell_type": "code",
   "execution_count": 3,
   "metadata": {},
   "outputs": [
    {
     "data": {
      "text/plain": [
       "'Y0vpAcCzpLY3l5VSChBzAcRpy-JrWmmaOenfUf-AGrC4lKtc79YDH503ZZSURFVGsAx_I1-Xo0T6YykBPmaOalvnGubVhpIH_K0kfIcWEh0FLftyNyUQ75MXaW0wYHYx'"
      ]
     },
     "execution_count": 3,
     "metadata": {},
     "output_type": "execute_result"
    }
   ],
   "source": [
    "api_key = read_api_key()\n",
    "api_key"
   ]
  },
  {
   "cell_type": "code",
   "execution_count": 4,
   "metadata": {},
   "outputs": [],
   "source": [
    "#return the raw HTML for the specified URL\n",
    "def retrieve_html(url):\n",
    "    r = requests.get(url, auth=('user', 'pass'))   \n",
    "    return (r.status_code, r.text)"
   ]
  },
  {
   "cell_type": "code",
   "execution_count": 5,
   "metadata": {},
   "outputs": [],
   "source": [
    "#Make an authenticated request to the Yelp API.\n",
    "def yelp_search(api_key, term, location):\n",
    "    \n",
    "    search_url = \"https://api.yelp.com/v3/businesses/search\"\n",
    "    \n",
    "    params = {\"location\": location, \"term\": term, \"categories\" : \"restaurants\"}\n",
    "    \n",
    "    headers = {\n",
    "        'Authorization': 'Bearer %s' % api_key,\n",
    "    }\n",
    "    \n",
    "    response = requests.get(search_url, params = params, headers = headers)\n",
    "    \n",
    "    data = json.loads(response.text)\n",
    "    \n",
    "    return (data[\"total\"], data[\"businesses\"])\n"
   ]
  },
  {
   "cell_type": "code",
   "execution_count": 6,
   "metadata": {},
   "outputs": [
    {
     "data": {
      "text/plain": [
       "156"
      ]
     },
     "execution_count": 6,
     "metadata": {},
     "output_type": "execute_result"
    }
   ],
   "source": [
    "(total, businesses) = yelp_search(api_key, \"taco\", \"University District, Seattle\")\n",
    "total"
   ]
  },
  {
   "cell_type": "code",
   "execution_count": 7,
   "metadata": {},
   "outputs": [],
   "source": [
    "#Retrieve ALL the restaurants on Yelp for a given query.\n",
    "#returns the api response as a list of dictionaries\n",
    "#max number of responses is 1000\n",
    "def all_restaurants(api_key, term, location):\n",
    "    search_url = \"https://api.yelp.com/v3/businesses/search\"\n",
    "    \n",
    "    params1 = {\"location\": location, \"term\": term, \"categories\" : \"restaurants\"}\n",
    "    \n",
    "    headers = {\n",
    "        'Authorization': 'Bearer %s' % api_key,\n",
    "    }\n",
    "    \n",
    "    response1 = requests.get(search_url, params = params1, headers = headers)   \n",
    "    data1 = json.loads(response1.text)\n",
    "    \n",
    "    #Note that only 1000 records can be obtained at one time\n",
    "    records_num = data1['total']    \n",
    "    requests_num = records_num//20 + 1\n",
    "    offset = 0\n",
    "    result = []\n",
    "    \n",
    "    for i in range(requests_num):\n",
    "        #20 restaurants each request\n",
    "        curr_offset = offset + i*20\n",
    "        params = {\"location\": location, \"term\": term, \"offset\": curr_offset, \"categories\" : \"restaurants\"}\n",
    "        response = requests.get(search_url, params = params, headers = headers)\n",
    "        data = json.loads(response.text)\n",
    "        result += data[\"businesses\"]\n",
    "    #pause slightly between requests\n",
    "        time.sleep(.300)\n",
    "        \n",
    "    return result"
   ]
  },
  {
   "cell_type": "code",
   "execution_count": 8,
   "metadata": {},
   "outputs": [
    {
     "data": {
      "text/plain": [
       "list"
      ]
     },
     "execution_count": 8,
     "metadata": {},
     "output_type": "execute_result"
    }
   ],
   "source": [
    "tacos = all_restaurants(api_key, \"taco\", \"University District, Seattle\")\n",
    "type(tacos)"
   ]
  },
  {
   "cell_type": "code",
   "execution_count": 9,
   "metadata": {},
   "outputs": [
    {
     "name": "stdout",
     "output_type": "stream",
     "text": [
      "156\n"
     ]
    },
    {
     "data": {
      "text/plain": [
       "{'id': 'nwrKWcWG1_g8nyUaaUwqlA',\n",
       " 'alias': 'tacos-chukis-seattle-5',\n",
       " 'name': 'Tacos Chukis',\n",
       " 'image_url': 'https://s3-media4.fl.yelpcdn.com/bphoto/huHHXRboy1-VPKK376t8zw/o.jpg',\n",
       " 'is_closed': False,\n",
       " 'url': 'https://www.yelp.com/biz/tacos-chukis-seattle-5?adjust_creative=Yd84IPqpgzteXDQ2QE83uA&utm_campaign=yelp_api_v3&utm_medium=api_v3_business_search&utm_source=Yd84IPqpgzteXDQ2QE83uA',\n",
       " 'review_count': 410,\n",
       " 'categories': [{'alias': 'tacos', 'title': 'Tacos'},\n",
       "  {'alias': 'sandwiches', 'title': 'Sandwiches'}],\n",
       " 'rating': 4.5,\n",
       " 'coordinates': {'latitude': 47.6270336126469, 'longitude': -122.342103158844},\n",
       " 'transactions': ['delivery'],\n",
       " 'price': '$',\n",
       " 'location': {'address1': '832 Dexter Ave N',\n",
       "  'address2': '',\n",
       "  'address3': None,\n",
       "  'city': 'Seattle',\n",
       "  'zip_code': '98109',\n",
       "  'country': 'US',\n",
       "  'state': 'WA',\n",
       "  'display_address': ['832 Dexter Ave N', 'Seattle, WA 98109']},\n",
       " 'phone': '+12065189025',\n",
       " 'display_phone': '(206) 518-9025',\n",
       " 'distance': 4693.45484203039}"
      ]
     },
     "execution_count": 9,
     "metadata": {},
     "output_type": "execute_result"
    }
   ],
   "source": [
    "print(len(tacos))\n",
    "tacos[6]"
   ]
  },
  {
   "cell_type": "code",
   "execution_count": 10,
   "metadata": {},
   "outputs": [],
   "source": [
    "#parse the api response into a pandas dataframe\n",
    "#api response is all the restaurants matched\n",
    "def parse_api_response(api_response):\n",
    "    \n",
    "    df = pd.DataFrame(columns=('name','category','latitude','longitude','price','rating','url', 'review_count'))\n",
    "    \n",
    "    for i in range(len(api_response)): \n",
    "        \n",
    "        restaurant = api_response[i]\n",
    "        name = restaurant['name']\n",
    "        category_list = []\n",
    "        for category in restaurant['categories']:\n",
    "            category_list.append(category['alias'])\n",
    "        seperator = ','\n",
    "        category_string = seperator.join(category_list)\n",
    "        \n",
    "        coordinates = restaurant['coordinates']\n",
    "        latitude = coordinates['latitude']\n",
    "        longitude = coordinates['longitude']\n",
    "        \n",
    "        if 'price' in restaurant:\n",
    "            price = restaurant['price']\n",
    "            price_indicator = price.count('$')\n",
    "        else:\n",
    "            price_indicator = 'NA'\n",
    "        \n",
    "        rating = restaurant['rating']\n",
    "        url = restaurant['url']\n",
    "        review_count = restaurant['review_count']\n",
    "            \n",
    "        df.loc[i] = [name, category_string, latitude, longitude, price_indicator, rating, url, review_count]\n",
    "    \n",
    "    return df"
   ]
  },
  {
   "cell_type": "code",
   "execution_count": 11,
   "metadata": {},
   "outputs": [
    {
     "data": {
      "text/html": [
       "<div>\n",
       "<style scoped>\n",
       "    .dataframe tbody tr th:only-of-type {\n",
       "        vertical-align: middle;\n",
       "    }\n",
       "\n",
       "    .dataframe tbody tr th {\n",
       "        vertical-align: top;\n",
       "    }\n",
       "\n",
       "    .dataframe thead th {\n",
       "        text-align: right;\n",
       "    }\n",
       "</style>\n",
       "<table border=\"1\" class=\"dataframe\">\n",
       "  <thead>\n",
       "    <tr style=\"text-align: right;\">\n",
       "      <th></th>\n",
       "      <th>name</th>\n",
       "      <th>category</th>\n",
       "      <th>latitude</th>\n",
       "      <th>longitude</th>\n",
       "      <th>price</th>\n",
       "      <th>rating</th>\n",
       "      <th>url</th>\n",
       "      <th>review_count</th>\n",
       "    </tr>\n",
       "  </thead>\n",
       "  <tbody>\n",
       "    <tr>\n",
       "      <th>0</th>\n",
       "      <td>El Camion</td>\n",
       "      <td>foodtrucks,mexican</td>\n",
       "      <td>47.661607</td>\n",
       "      <td>-122.287411</td>\n",
       "      <td>1</td>\n",
       "      <td>4.0</td>\n",
       "      <td>https://www.yelp.com/biz/el-camion-seattle-16?...</td>\n",
       "      <td>83</td>\n",
       "    </tr>\n",
       "    <tr>\n",
       "      <th>1</th>\n",
       "      <td>Off the Rez</td>\n",
       "      <td>foodtrucks,burgers,tacos</td>\n",
       "      <td>47.659920</td>\n",
       "      <td>-122.311825</td>\n",
       "      <td>1</td>\n",
       "      <td>4.0</td>\n",
       "      <td>https://www.yelp.com/biz/off-the-rez-seattle?a...</td>\n",
       "      <td>195</td>\n",
       "    </tr>\n",
       "    <tr>\n",
       "      <th>2</th>\n",
       "      <td>Guanaco's Tacos Pupuseria</td>\n",
       "      <td>salvadoran,tacos</td>\n",
       "      <td>47.657141</td>\n",
       "      <td>-122.314029</td>\n",
       "      <td>2</td>\n",
       "      <td>4.0</td>\n",
       "      <td>https://www.yelp.com/biz/guanacos-tacos-pupuse...</td>\n",
       "      <td>338</td>\n",
       "    </tr>\n",
       "    <tr>\n",
       "      <th>3</th>\n",
       "      <td>Rancho Bravo Tacos</td>\n",
       "      <td>mexican,foodtrucks</td>\n",
       "      <td>47.661190</td>\n",
       "      <td>-122.326510</td>\n",
       "      <td>1</td>\n",
       "      <td>4.0</td>\n",
       "      <td>https://www.yelp.com/biz/rancho-bravo-tacos-se...</td>\n",
       "      <td>465</td>\n",
       "    </tr>\n",
       "    <tr>\n",
       "      <th>4</th>\n",
       "      <td>TNT Taqueria</td>\n",
       "      <td>mexican</td>\n",
       "      <td>47.661509</td>\n",
       "      <td>-122.332940</td>\n",
       "      <td>1</td>\n",
       "      <td>4.0</td>\n",
       "      <td>https://www.yelp.com/biz/tnt-taqueria-seattle?...</td>\n",
       "      <td>446</td>\n",
       "    </tr>\n",
       "    <tr>\n",
       "      <th>...</th>\n",
       "      <td>...</td>\n",
       "      <td>...</td>\n",
       "      <td>...</td>\n",
       "      <td>...</td>\n",
       "      <td>...</td>\n",
       "      <td>...</td>\n",
       "      <td>...</td>\n",
       "      <td>...</td>\n",
       "    </tr>\n",
       "    <tr>\n",
       "      <th>151</th>\n",
       "      <td>Portage Bay Cafe - Roosevelt</td>\n",
       "      <td>newamerican,breakfast_brunch,cafes</td>\n",
       "      <td>47.657570</td>\n",
       "      <td>-122.317600</td>\n",
       "      <td>2</td>\n",
       "      <td>4.0</td>\n",
       "      <td>https://www.yelp.com/biz/portage-bay-cafe-roos...</td>\n",
       "      <td>2426</td>\n",
       "    </tr>\n",
       "    <tr>\n",
       "      <th>152</th>\n",
       "      <td>The Lodge Sports Grille</td>\n",
       "      <td>sportsbars,tradamerican</td>\n",
       "      <td>47.690728</td>\n",
       "      <td>-122.355599</td>\n",
       "      <td>2</td>\n",
       "      <td>2.5</td>\n",
       "      <td>https://www.yelp.com/biz/the-lodge-sports-gril...</td>\n",
       "      <td>198</td>\n",
       "    </tr>\n",
       "    <tr>\n",
       "      <th>153</th>\n",
       "      <td>Ivar's Salmon House</td>\n",
       "      <td>seafood,lounges,tradamerican</td>\n",
       "      <td>47.653620</td>\n",
       "      <td>-122.324040</td>\n",
       "      <td>2</td>\n",
       "      <td>3.5</td>\n",
       "      <td>https://www.yelp.com/biz/ivars-salmon-house-se...</td>\n",
       "      <td>1228</td>\n",
       "    </tr>\n",
       "    <tr>\n",
       "      <th>154</th>\n",
       "      <td>Revel</td>\n",
       "      <td>korean,newamerican,cocktailbars</td>\n",
       "      <td>47.652033</td>\n",
       "      <td>-122.354123</td>\n",
       "      <td>2</td>\n",
       "      <td>3.5</td>\n",
       "      <td>https://www.yelp.com/biz/revel-seattle?adjust_...</td>\n",
       "      <td>1385</td>\n",
       "    </tr>\n",
       "    <tr>\n",
       "      <th>155</th>\n",
       "      <td>Royal Grinders</td>\n",
       "      <td>sandwiches,vegetarian,vegan</td>\n",
       "      <td>47.651337</td>\n",
       "      <td>-122.350759</td>\n",
       "      <td>2</td>\n",
       "      <td>4.5</td>\n",
       "      <td>https://www.yelp.com/biz/royal-grinders-seattl...</td>\n",
       "      <td>628</td>\n",
       "    </tr>\n",
       "  </tbody>\n",
       "</table>\n",
       "<p>156 rows × 8 columns</p>\n",
       "</div>"
      ],
      "text/plain": [
       "                             name                            category  \\\n",
       "0                       El Camion                  foodtrucks,mexican   \n",
       "1                     Off the Rez            foodtrucks,burgers,tacos   \n",
       "2       Guanaco's Tacos Pupuseria                    salvadoran,tacos   \n",
       "3              Rancho Bravo Tacos                  mexican,foodtrucks   \n",
       "4                    TNT Taqueria                             mexican   \n",
       "..                            ...                                 ...   \n",
       "151  Portage Bay Cafe - Roosevelt  newamerican,breakfast_brunch,cafes   \n",
       "152       The Lodge Sports Grille             sportsbars,tradamerican   \n",
       "153           Ivar's Salmon House        seafood,lounges,tradamerican   \n",
       "154                         Revel     korean,newamerican,cocktailbars   \n",
       "155                Royal Grinders         sandwiches,vegetarian,vegan   \n",
       "\n",
       "      latitude   longitude price  rating  \\\n",
       "0    47.661607 -122.287411     1     4.0   \n",
       "1    47.659920 -122.311825     1     4.0   \n",
       "2    47.657141 -122.314029     2     4.0   \n",
       "3    47.661190 -122.326510     1     4.0   \n",
       "4    47.661509 -122.332940     1     4.0   \n",
       "..         ...         ...   ...     ...   \n",
       "151  47.657570 -122.317600     2     4.0   \n",
       "152  47.690728 -122.355599     2     2.5   \n",
       "153  47.653620 -122.324040     2     3.5   \n",
       "154  47.652033 -122.354123     2     3.5   \n",
       "155  47.651337 -122.350759     2     4.5   \n",
       "\n",
       "                                                   url review_count  \n",
       "0    https://www.yelp.com/biz/el-camion-seattle-16?...           83  \n",
       "1    https://www.yelp.com/biz/off-the-rez-seattle?a...          195  \n",
       "2    https://www.yelp.com/biz/guanacos-tacos-pupuse...          338  \n",
       "3    https://www.yelp.com/biz/rancho-bravo-tacos-se...          465  \n",
       "4    https://www.yelp.com/biz/tnt-taqueria-seattle?...          446  \n",
       "..                                                 ...          ...  \n",
       "151  https://www.yelp.com/biz/portage-bay-cafe-roos...         2426  \n",
       "152  https://www.yelp.com/biz/the-lodge-sports-gril...          198  \n",
       "153  https://www.yelp.com/biz/ivars-salmon-house-se...         1228  \n",
       "154  https://www.yelp.com/biz/revel-seattle?adjust_...         1385  \n",
       "155  https://www.yelp.com/biz/royal-grinders-seattl...          628  \n",
       "\n",
       "[156 rows x 8 columns]"
      ]
     },
     "execution_count": 11,
     "metadata": {},
     "output_type": "execute_result"
    }
   ],
   "source": [
    "taco_restaurants_df = parse_api_response(tacos)\n",
    "taco_restaurants_df"
   ]
  },
  {
   "cell_type": "code",
   "execution_count": 12,
   "metadata": {},
   "outputs": [],
   "source": [
    "#Parse the reviews on a single page of a restaurant.\n",
    "def parse_page(html):\n",
    "    soup = BeautifulSoup(html, 'html.parser')\n",
    "    #print(soup.prettify())\n",
    "    review_soups = soup.find_all(\"script\",type=\"application/ld+json\")\n",
    "    \n",
    "    description_list = []\n",
    "    for soup in review_soups:\n",
    "        #bs4 uses .string, not .text\n",
    "        text = soup.string\n",
    "        #decode the json into python dict\n",
    "        js_dict = json.loads(text)\n",
    "        \n",
    "        if 'review' in js_dict:\n",
    "            review_list = js_dict['review']\n",
    "        \n",
    "            for i in range(len(review_list)):\n",
    "                review_dict = review_list[i]\n",
    "                description_list.append(review_dict['description'])\n",
    "\n",
    "    return description_list"
   ]
  },
  {
   "cell_type": "code",
   "execution_count": 13,
   "metadata": {},
   "outputs": [],
   "source": [
    "#retrieve ALL of the reviews for a single restaurant on Yelp.\n",
    "#returns: reviews (list): list of dictionaries containing extracted review information\n",
    "def extract_reviews(url):\n",
    "    \n",
    "    api_url = url + '%3Fstart%3D40'\n",
    "    \n",
    "    html_obj = retrieve_html(url)[1]\n",
    "    \n",
    "    review_list = parse_page(html_obj)\n",
    "    \n",
    "    result = review_list\n",
    "    \n",
    "    return result\n"
   ]
  }
 ],
 "metadata": {
  "kernelspec": {
   "display_name": "Python 3",
   "language": "python",
   "name": "python3"
  },
  "language_info": {
   "codemirror_mode": {
    "name": "ipython",
    "version": 3
   },
   "file_extension": ".py",
   "mimetype": "text/x-python",
   "name": "python",
   "nbconvert_exporter": "python",
   "pygments_lexer": "ipython3",
   "version": "3.9.1-final"
  }
 },
 "nbformat": 4,
 "nbformat_minor": 4
}