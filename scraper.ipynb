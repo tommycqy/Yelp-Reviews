{
 "cells": [
  {
   "cell_type": "code",
   "execution_count": 1,
   "metadata": {},
   "outputs": [],
   "source": [
    "# setup library imports\n",
    "import io, time, json\n",
    "import requests\n",
    "import pandas as pd\n",
    "import numpy as np\n",
    "\n",
    "from pathlib import Path\n",
    "from bs4 import BeautifulSoup"
   ]
  },
  {
   "cell_type": "code",
   "execution_count": 2,
   "metadata": {},
   "outputs": [],
   "source": [
    "#Read the Yelp API key from file\n",
    "def read_api_key(filepath=\"api_key.txt\"):\n",
    "    return Path(filepath).read_text().strip()"
   ]
  },
  {
   "cell_type": "code",
   "execution_count": 3,
   "metadata": {},
   "outputs": [
    {
     "data": {
      "text/plain": [
       "'Y0vpAcCzpLY3l5VSChBzAcRpy-JrWmmaOenfUf-AGrC4lKtc79YDH503ZZSURFVGsAx_I1-Xo0T6YykBPmaOalvnGubVhpIH_K0kfIcWEh0FLftyNyUQ75MXaW0wYHYx'"
      ]
     },
     "execution_count": 3,
     "metadata": {},
     "output_type": "execute_result"
    }
   ],
   "source": [
    "api_key = read_api_key()\n",
    "api_key"
   ]
  },
  {
   "cell_type": "code",
   "execution_count": 4,
   "metadata": {},
   "outputs": [],
   "source": [
    "#return the raw HTML for the specified URL\n",
    "def retrieve_html(url):\n",
    "    r = requests.get(url, auth=('user', 'pass'))   \n",
    "    return (r.status_code, r.text)"
   ]
  },
  {
   "cell_type": "code",
   "execution_count": 5,
   "metadata": {},
   "outputs": [],
   "source": [
    "#Make an authenticated request to the Yelp API.\n",
    "def yelp_search(api_key, term, location):\n",
    "    \n",
    "    search_url = \"https://api.yelp.com/v3/businesses/search\"\n",
    "    \n",
    "    params = {\"location\": location, \"term\": term, \"categories\" : \"restaurants\"}\n",
    "    \n",
    "    headers = {\n",
    "        'Authorization': 'Bearer %s' % api_key,\n",
    "    }\n",
    "    \n",
    "    response = requests.get(search_url, params = params, headers = headers)\n",
    "    \n",
    "    data = json.loads(response.text)\n",
    "    \n",
    "    return (data[\"total\"], data[\"businesses\"])\n"
   ]
  },
  {
   "cell_type": "code",
   "execution_count": 6,
   "metadata": {},
   "outputs": [
    {
     "data": {
      "text/plain": [
       "156"
      ]
     },
     "execution_count": 6,
     "metadata": {},
     "output_type": "execute_result"
    }
   ],
   "source": [
    "(total, businesses) = yelp_search(api_key, \"taco\", \"University District, Seattle\")\n",
    "total"
   ]
  },
  {
   "cell_type": "code",
   "execution_count": 7,
   "metadata": {},
   "outputs": [],
   "source": [
    "#Retrieve ALL the restaurants on Yelp for a given query.\n",
    "#returns the api response as a list of dictionaries\n",
    "#max number of responses is 1000\n",
    "def all_restaurants(api_key, term, location):\n",
    "    search_url = \"https://api.yelp.com/v3/businesses/search\"\n",
    "    \n",
    "    params1 = {\"location\": location, \"term\": term, \"categories\" : \"restaurants\"}\n",
    "    \n",
    "    headers = {\n",
    "        'Authorization': 'Bearer %s' % api_key,\n",
    "    }\n",
    "    \n",
    "    response1 = requests.get(search_url, params = params1, headers = headers)   \n",
    "    data1 = json.loads(response1.text)\n",
    "    \n",
    "    #Note that only 1000 records can be obtained at one time\n",
    "    records_num = data1['total']    \n",
    "    requests_num = records_num//20 + 1\n",
    "    offset = 0\n",
    "    result = []\n",
    "    \n",
    "    for i in range(requests_num):\n",
    "        #20 restaurants each request\n",
    "        curr_offset = offset + i*20\n",
    "        params = {\"location\": location, \"term\": term, \"offset\": curr_offset, \"categories\" : \"restaurants\"}\n",
    "        response = requests.get(search_url, params = params, headers = headers)\n",
    "        data = json.loads(response.text)\n",
    "        result += data[\"businesses\"]\n",
    "    #pause slightly between requests\n",
    "        time.sleep(.300)\n",
    "        \n",
    "    return result"
   ]
  },
  {
   "cell_type": "code",
   "execution_count": 8,
   "metadata": {},
   "outputs": [
    {
     "data": {
      "text/plain": [
       "list"
      ]
     },
     "execution_count": 8,
     "metadata": {},
     "output_type": "execute_result"
    }
   ],
   "source": [
    "tacos = all_restaurants(api_key, \"taco\", \"University District, Seattle\")\n",
    "type(tacos)"
   ]
  },
  {
   "cell_type": "code",
   "execution_count": 9,
   "metadata": {},
   "outputs": [
    {
     "name": "stdout",
     "output_type": "stream",
     "text": [
      "156\n"
     ]
    },
    {
     "data": {
      "text/plain": [
       "{'id': 'ZTFVwQaFVhp_4BU33xoclg',\n",
       " 'alias': 'the-counter-at-old-ballard-catering-seattle',\n",
       " 'name': 'The Counter At Old Ballard Catering',\n",
       " 'image_url': 'https://s3-media3.fl.yelpcdn.com/bphoto/4pqkrTkLd8Fgn1FYieyB9g/o.jpg',\n",
       " 'is_closed': False,\n",
       " 'url': 'https://www.yelp.com/biz/the-counter-at-old-ballard-catering-seattle?adjust_creative=Yd84IPqpgzteXDQ2QE83uA&utm_campaign=yelp_api_v3&utm_medium=api_v3_business_search&utm_source=Yd84IPqpgzteXDQ2QE83uA',\n",
       " 'review_count': 35,\n",
       " 'categories': [{'alias': 'newamerican', 'title': 'American (New)'},\n",
       "  {'alias': 'greek', 'title': 'Greek'},\n",
       "  {'alias': 'tacos', 'title': 'Tacos'}],\n",
       " 'rating': 5.0,\n",
       " 'coordinates': {'latitude': 47.675679, 'longitude': -122.311566},\n",
       " 'transactions': ['pickup', 'delivery'],\n",
       " 'location': {'address1': '1505 NE 65th St',\n",
       "  'address2': '',\n",
       "  'address3': None,\n",
       "  'city': 'Seattle',\n",
       "  'zip_code': '98115',\n",
       "  'country': 'US',\n",
       "  'state': 'WA',\n",
       "  'display_address': ['1505 NE 65th St', 'Seattle, WA 98115']},\n",
       " 'phone': '+12062574742',\n",
       " 'display_phone': '(206) 257-4742',\n",
       " 'distance': 1690.580472980658}"
      ]
     },
     "execution_count": 9,
     "metadata": {},
     "output_type": "execute_result"
    }
   ],
   "source": [
    "print(len(tacos))\n",
    "tacos[6]"
   ]
  },
  {
   "cell_type": "code",
   "execution_count": 10,
   "metadata": {},
   "outputs": [],
   "source": [
    "#parse the api response into a pandas dataframe\n",
    "#api response is all the restaurants matched\n",
    "def parse_api_response(api_response):\n",
    "    \n",
    "    df = pd.DataFrame(columns=('name','category','latitude','longitude','price','rating','url', 'review_count'))\n",
    "    \n",
    "    for i in range(len(api_response)): \n",
    "        \n",
    "        restaurant = api_response[i]\n",
    "        name = restaurant['name']\n",
    "        category_list = []\n",
    "        for category in restaurant['categories']:\n",
    "            category_list.append(category['alias'])\n",
    "        seperator = ','\n",
    "        category_string = seperator.join(category_list)\n",
    "        \n",
    "        coordinates = restaurant['coordinates']\n",
    "        latitude = coordinates['latitude']\n",
    "        longitude = coordinates['longitude']\n",
    "        \n",
    "        if 'price' in restaurant:\n",
    "            price = restaurant['price']\n",
    "            price_indicator = price.count('$')\n",
    "        else:\n",
    "            price_indicator = 'NA'\n",
    "        \n",
    "        rating = restaurant['rating']\n",
    "        url = restaurant['url']\n",
    "        review_count = restaurant['review_count']\n",
    "            \n",
    "        df.loc[i] = [name, category_string, latitude, longitude, price_indicator, rating, url, review_count]\n",
    "    \n",
    "    return df"
   ]
  },
  {
   "cell_type": "code",
   "execution_count": 11,
   "metadata": {},
   "outputs": [
    {
     "data": {
      "text/html": [
       "<div>\n",
       "<style scoped>\n",
       "    .dataframe tbody tr th:only-of-type {\n",
       "        vertical-align: middle;\n",
       "    }\n",
       "\n",
       "    .dataframe tbody tr th {\n",
       "        vertical-align: top;\n",
       "    }\n",
       "\n",
       "    .dataframe thead th {\n",
       "        text-align: right;\n",
       "    }\n",
       "</style>\n",
       "<table border=\"1\" class=\"dataframe\">\n",
       "  <thead>\n",
       "    <tr style=\"text-align: right;\">\n",
       "      <th></th>\n",
       "      <th>name</th>\n",
       "      <th>category</th>\n",
       "      <th>latitude</th>\n",
       "      <th>longitude</th>\n",
       "      <th>price</th>\n",
       "      <th>rating</th>\n",
       "      <th>url</th>\n",
       "      <th>review_count</th>\n",
       "    </tr>\n",
       "  </thead>\n",
       "  <tbody>\n",
       "    <tr>\n",
       "      <th>0</th>\n",
       "      <td>Guanaco's Tacos Pupuseria</td>\n",
       "      <td>salvadoran,tacos,gluten_free</td>\n",
       "      <td>47.657141</td>\n",
       "      <td>-122.314029</td>\n",
       "      <td>2</td>\n",
       "      <td>4.0</td>\n",
       "      <td>https://www.yelp.com/biz/guanacos-tacos-pupuse...</td>\n",
       "      <td>337</td>\n",
       "    </tr>\n",
       "    <tr>\n",
       "      <th>1</th>\n",
       "      <td>Off the Rez</td>\n",
       "      <td>foodtrucks,burgers,tacos</td>\n",
       "      <td>47.659920</td>\n",
       "      <td>-122.311825</td>\n",
       "      <td>1</td>\n",
       "      <td>4.0</td>\n",
       "      <td>https://www.yelp.com/biz/off-the-rez-seattle?a...</td>\n",
       "      <td>195</td>\n",
       "    </tr>\n",
       "    <tr>\n",
       "      <th>2</th>\n",
       "      <td>El Camion</td>\n",
       "      <td>foodtrucks,mexican</td>\n",
       "      <td>47.661607</td>\n",
       "      <td>-122.287411</td>\n",
       "      <td>1</td>\n",
       "      <td>4.0</td>\n",
       "      <td>https://www.yelp.com/biz/el-camion-seattle-16?...</td>\n",
       "      <td>82</td>\n",
       "    </tr>\n",
       "    <tr>\n",
       "      <th>3</th>\n",
       "      <td>TNT Taqueria</td>\n",
       "      <td>mexican</td>\n",
       "      <td>47.661509</td>\n",
       "      <td>-122.332940</td>\n",
       "      <td>1</td>\n",
       "      <td>4.0</td>\n",
       "      <td>https://www.yelp.com/biz/tnt-taqueria-seattle?...</td>\n",
       "      <td>442</td>\n",
       "    </tr>\n",
       "    <tr>\n",
       "      <th>4</th>\n",
       "      <td>Agua Verde Cafe</td>\n",
       "      <td>mexican,venues,breakfast_brunch</td>\n",
       "      <td>47.651610</td>\n",
       "      <td>-122.314410</td>\n",
       "      <td>2</td>\n",
       "      <td>3.5</td>\n",
       "      <td>https://www.yelp.com/biz/agua-verde-cafe-seatt...</td>\n",
       "      <td>995</td>\n",
       "    </tr>\n",
       "    <tr>\n",
       "      <th>...</th>\n",
       "      <td>...</td>\n",
       "      <td>...</td>\n",
       "      <td>...</td>\n",
       "      <td>...</td>\n",
       "      <td>...</td>\n",
       "      <td>...</td>\n",
       "      <td>...</td>\n",
       "      <td>...</td>\n",
       "    </tr>\n",
       "    <tr>\n",
       "      <th>151</th>\n",
       "      <td>Brouwer's Cafe</td>\n",
       "      <td>modern_european,pubs,belgian</td>\n",
       "      <td>47.651630</td>\n",
       "      <td>-122.354230</td>\n",
       "      <td>2</td>\n",
       "      <td>4.0</td>\n",
       "      <td>https://www.yelp.com/biz/brouwers-cafe-seattle...</td>\n",
       "      <td>984</td>\n",
       "    </tr>\n",
       "    <tr>\n",
       "      <th>152</th>\n",
       "      <td>The Westy Roosevelt</td>\n",
       "      <td>sportsbars,tradamerican</td>\n",
       "      <td>47.675610</td>\n",
       "      <td>-122.315020</td>\n",
       "      <td>2</td>\n",
       "      <td>4.0</td>\n",
       "      <td>https://www.yelp.com/biz/the-westy-roosevelt-s...</td>\n",
       "      <td>54</td>\n",
       "    </tr>\n",
       "    <tr>\n",
       "      <th>153</th>\n",
       "      <td>Revel</td>\n",
       "      <td>korean,newamerican,cocktailbars</td>\n",
       "      <td>47.652033</td>\n",
       "      <td>-122.354123</td>\n",
       "      <td>2</td>\n",
       "      <td>3.5</td>\n",
       "      <td>https://www.yelp.com/biz/revel-seattle?adjust_...</td>\n",
       "      <td>1386</td>\n",
       "    </tr>\n",
       "    <tr>\n",
       "      <th>154</th>\n",
       "      <td>Ivar's Salmon House</td>\n",
       "      <td>seafood,lounges,tradamerican</td>\n",
       "      <td>47.653620</td>\n",
       "      <td>-122.324040</td>\n",
       "      <td>2</td>\n",
       "      <td>3.5</td>\n",
       "      <td>https://www.yelp.com/biz/ivars-salmon-house-se...</td>\n",
       "      <td>1228</td>\n",
       "    </tr>\n",
       "    <tr>\n",
       "      <th>155</th>\n",
       "      <td>Royal Grinders</td>\n",
       "      <td>sandwiches,vegetarian,vegan</td>\n",
       "      <td>47.651337</td>\n",
       "      <td>-122.350759</td>\n",
       "      <td>2</td>\n",
       "      <td>4.5</td>\n",
       "      <td>https://www.yelp.com/biz/royal-grinders-seattl...</td>\n",
       "      <td>629</td>\n",
       "    </tr>\n",
       "  </tbody>\n",
       "</table>\n",
       "<p>156 rows × 8 columns</p>\n",
       "</div>"
      ],
      "text/plain": [
       "                          name                         category   latitude  \\\n",
       "0    Guanaco's Tacos Pupuseria     salvadoran,tacos,gluten_free  47.657141   \n",
       "1                  Off the Rez         foodtrucks,burgers,tacos  47.659920   \n",
       "2                    El Camion               foodtrucks,mexican  47.661607   \n",
       "3                 TNT Taqueria                          mexican  47.661509   \n",
       "4              Agua Verde Cafe  mexican,venues,breakfast_brunch  47.651610   \n",
       "..                         ...                              ...        ...   \n",
       "151             Brouwer's Cafe     modern_european,pubs,belgian  47.651630   \n",
       "152        The Westy Roosevelt          sportsbars,tradamerican  47.675610   \n",
       "153                      Revel  korean,newamerican,cocktailbars  47.652033   \n",
       "154        Ivar's Salmon House     seafood,lounges,tradamerican  47.653620   \n",
       "155             Royal Grinders      sandwiches,vegetarian,vegan  47.651337   \n",
       "\n",
       "      longitude price  rating  \\\n",
       "0   -122.314029     2     4.0   \n",
       "1   -122.311825     1     4.0   \n",
       "2   -122.287411     1     4.0   \n",
       "3   -122.332940     1     4.0   \n",
       "4   -122.314410     2     3.5   \n",
       "..          ...   ...     ...   \n",
       "151 -122.354230     2     4.0   \n",
       "152 -122.315020     2     4.0   \n",
       "153 -122.354123     2     3.5   \n",
       "154 -122.324040     2     3.5   \n",
       "155 -122.350759     2     4.5   \n",
       "\n",
       "                                                   url review_count  \n",
       "0    https://www.yelp.com/biz/guanacos-tacos-pupuse...          337  \n",
       "1    https://www.yelp.com/biz/off-the-rez-seattle?a...          195  \n",
       "2    https://www.yelp.com/biz/el-camion-seattle-16?...           82  \n",
       "3    https://www.yelp.com/biz/tnt-taqueria-seattle?...          442  \n",
       "4    https://www.yelp.com/biz/agua-verde-cafe-seatt...          995  \n",
       "..                                                 ...          ...  \n",
       "151  https://www.yelp.com/biz/brouwers-cafe-seattle...          984  \n",
       "152  https://www.yelp.com/biz/the-westy-roosevelt-s...           54  \n",
       "153  https://www.yelp.com/biz/revel-seattle?adjust_...         1386  \n",
       "154  https://www.yelp.com/biz/ivars-salmon-house-se...         1228  \n",
       "155  https://www.yelp.com/biz/royal-grinders-seattl...          629  \n",
       "\n",
       "[156 rows x 8 columns]"
      ]
     },
     "execution_count": 11,
     "metadata": {},
     "output_type": "execute_result"
    }
   ],
   "source": [
    "taco_restaurants_df = parse_api_response(tacos)\n",
    "taco_restaurants_df"
   ]
  },
  {
   "cell_type": "code",
   "execution_count": 25,
   "metadata": {},
   "outputs": [],
   "source": [
    "#Parse the reviews on a single page of a restaurant.\n",
    "def parse_page(html):\n",
    "    soup = BeautifulSoup(html, 'html.parser')\n",
    "    #print(soup.prettify())\n",
    "    review_soups = soup.find_all(\"script\",type=\"application/ld+json\")\n",
    "    \n",
    "    description_list = []\n",
    "    for soup in review_soups:\n",
    "        #bs4 uses .string, not .text\n",
    "        text = soup.string\n",
    "        #decode the json into python dict\n",
    "        js_dict = json.loads(text)\n",
    "        \n",
    "        if 'review' in js_dict:\n",
    "            review_list = js_dict['review']\n",
    "        \n",
    "            for i in range(len(review_list)):\n",
    "                review_dict = review_list[i]\n",
    "                description_list.append(review_dict['description'])\n",
    "\n",
    "    return description_list"
   ]
  },
  {
   "cell_type": "code",
   "execution_count": 26,
   "metadata": {},
   "outputs": [],
   "source": [
    "#retrieve ALL of the reviews for a single restaurant on Yelp.\n",
    "#returns: reviews (list): list of dictionaries containing extracted review information\n",
    "def extract_reviews(url, review_count):\n",
    "    \n",
    "    api_url = url + '%3Fstart%3D40'\n",
    "    \n",
    "    html_obj = retrieve_html(url)[1]\n",
    "    \n",
    "    review_list = parse_page(html_obj)\n",
    "    \n",
    "    result = review_list\n",
    "    \n",
    "    num_pages = review_count//20 + 1\n",
    "    \n",
    "    for i in range(1, num_pages):\n",
    "        curr_offset = i*20\n",
    "        curr_url = api_url + '&start=%d'%curr_offset\n",
    "        \n",
    "        curr_page_reviews = parse_page(retrieve_html(curr_url)[1])\n",
    "        \n",
    "        #print(curr_url)\n",
    "        #print(curr_page_reviews)\n",
    "        #print('\\n\\n\\n')\n",
    "        result += curr_page_reviews\n",
    "    \n",
    "    return result\n"
   ]
  },
  {
   "cell_type": "code",
   "execution_count": 27,
   "metadata": {},
   "outputs": [
    {
     "data": {
      "text/plain": [
       "'https://www.yelp.com/biz/off-the-rez-seattle?adjust_creative=Yd84IPqpgzteXDQ2QE83uA&utm_campaign=yelp_api_v3&utm_medium=api_v3_business_search&utm_source=Yd84IPqpgzteXDQ2QE83uA'"
      ]
     },
     "execution_count": 27,
     "metadata": {},
     "output_type": "execute_result"
    }
   ],
   "source": [
    "test_url = taco_restaurants_df.loc[1]['url']\n",
    "test_url"
   ]
  },
  {
   "cell_type": "code",
   "execution_count": 28,
   "metadata": {},
   "outputs": [],
   "source": [
    "test_reviews = extract_reviews(test_url, 82)"
   ]
  },
  {
   "cell_type": "code",
   "execution_count": 29,
   "metadata": {},
   "outputs": [
    {
     "data": {
      "text/plain": [
       "100"
      ]
     },
     "execution_count": 29,
     "metadata": {},
     "output_type": "execute_result"
    }
   ],
   "source": [
    "len(test_reviews)"
   ]
  },
  {
   "cell_type": "code",
   "execution_count": 30,
   "metadata": {},
   "outputs": [
    {
     "data": {
      "text/plain": [
       "['Exceptional service! It was fun watching him gently knead the dough and then dip it in the fryer. Husband had a bison taco and I had pulled pork and both were outstanding! He had the fry bread with their house made lemon curd and it was divine. 10 stars!',\n",
       " 'Off the Rez is amazing!! 10/10 would always get the bison taco or something sweet!! The coffee is amazing also!',\n",
       " 'This is interesting combo: Indian flatbread with contemporary Taco.  I ordered bison and chili choices and both are pretty good.  Indian Flatbread was fluffy, the meat and the topping mixed well, together was a great intriguing snack.  It was a small taco so you will need 2 for lunch/dinner. \\nAlso the cafe is next to the museum so You can tell the entrance staff withiutbbiuyjng the ticket and park the lot in front of the museum and cafe.  Pay by mobile or the machine for parking fee (the day we visited, the machine was broken, we paid and extended hours by mobile app).  \\nThe staffs were nice and the cafe was clean and neat.  We will be back!',\n",
       " 'Off The Rez was off the hook.\\n\\nCame here because it was parked at Optimism Brewing where they do not sell food, thank goodness Off The Rez saved me from starvation at a birthday gathering. Not sure exactly how to describe this truck as it&apos;s not a taco truck, but they do have tacos. They call them, &quot;Indian tacos&quot; because it&apos;s starved on an air-fried bread which to my surprise, it was delicious. 2 tacos was filling! The guy that served me was also really nice. \\n\\nNow that I have time to sit down and do some research, this truck is known for their air-fried bread that they serve in more variety besides tacos. I hope to see them again next time I visit Optimism Brewing, but I guess they rotate out the food trucks on a daily so make sure you follow their schedule.\\n\\nTell me about your experience if you&apos;ve been here or is going to after reading this review:)',\n",
       " 'We were first introduced to these guys at the food and wine experience in 2019. Living over in Yakima, the name was instantly intriguing, and after talking to the guys, we liked them even more.\\n\\nThe guys running the place is super cool bunch that are taking a traditional native dish and giving it a little modern flair. Most of the fry bread we have on the side of the mountains is of the sweet variety - The first time I had one, it reminded me of a thick, smaller elephant ear with a lot of good stuff on top. Here they sell a couple different versions. The sweet fry bread is more what we have been used to and they serve it with any of a number of different topping options. We were pretty impressive what they were offering! The guava curd was ultimately the choice and it was legit! If the English Tea-aristocracy gets wind of it, they may trade out their lemon curd! Honey, a bunch of different berries and cinnamon/sugar were the other options and I imagine all are legit!\\n\\nThe savory options are termed Indian Tacos. These are probably the best we&apos;ve ever tasted! We had a braised bison one and it was pretty amazing. The opportunity to consume a less common meat on some next level fried carbs was exactly what we were looking for.\\n\\nThe place has a decent amount of seating and you can go into the museum front room and eat as well. They&apos;ve got decent beverage options including- beer - wine - pop - coffee &amp; juice.\\n\\nWhile it&apos;s not the most convenient location, the food is exceptionally good and the guys running the place are doing a solid job. If you&apos;re in the area, it&apos;s definitely worth your time to check it out.',\n",
       " 'I love this place and love the consistency of quality each time! Both food truck and museum locations have been satisfactory. It is packaged well and the customer service is great!',\n",
       " 'This review is for the brick and mortar location, not the truck. Off the Rez is so delicious and their fry bread is made fresh, with high-quality ingredients, at extremely reasonable prices.  I have nothing bad to say about anything we ate at this restaurant and wish it was open later or had another location so we could here more often!\\n\\nThe chili taco is the play here - I went with the classic beef but have heard good things about the others ones as well.  There was a generous amount of chili on the bread and it was flavorful and spiced well but wasn&apos;t spicy hot.  We also got the seasonal cranberry fry bread which was so good our group of 6 ended up getting 3 to share (we initially all naively thought we could just share bites of 1 - wrong).  \\n\\nThe sides here are good as well if you&apos;re trying to get some veggies in alongside the deep-fried goodness - the Kale salad was fresh and the dressing was pretty tasty and the coleslaw was solid, though not as memorable as the other things we ate.\\n\\nAlso be sure to check out the various beverage options they&apos;ve got up by the register - we were happy to see a variety of both beers and non-alcoholic beverages.',\n",
       " 'The only thing better that my top 5 food truck experiences is to have a sit down option too. Today we checked out the new location inside of the Burke Museum after attending a great play at the UW School of Drama (plug for them too!). Even though they are open until 5 on Sundays (same hours as the museum, although they have their own separate entrance) they seemed eager to close early when we arrived as the only customers at 4:35. No matter, they were friendly, took our order and in no time we were enjoying two savory fry bread tacos along with one sweet one to share. The chili verde chicken and pulled pork selections were both great, as was the honey soaked dessert. Prices were very reasonable for what amounts to a museum cafe. I can&apos;t wait to come back and try other items.',\n",
       " 'One of my favorite trucks in Seattle:\\n\\nQuality: the veggie tacos are good. The fry bread is fresh and the chili is well seasoned. I would like more veggies on the veggie tacos, but they are delicious nevertheless.\\n\\nQuantity: the fry bread is thick and the put enough chilli on it to make it filling. I usually buy 3, but 2 is still plenty.\\n\\nService: classic food truck service, nothing to rave or complain about\\n\\nPrice: $5 per taco is steep, so I get it once per month only. They are pretty pricey, so be prepared to splurge.',\n",
       " 'I&apos;m glad Off The Rez specializes in fry bread because damn, it was good and there really aren&apos;t many places that do it.  But the savory dishes seemed to be amiss. \\n\\nMy friend and I spotted this food truck, as it was the truck that was parked outside of Optimism Brewery when we visited.  You always need bites with your beer; and when she found out that Off the Rez was here, she was excited to try their fry bread.  I had never eaten fry bread before, but was down to try something new. \\n\\nMy friend ordered the Powwow Burger, a bacon cheeseburger with fry bread for buns, while I had two Indian tacos, one with pork and the other with chicken.  Menu was pretty standard with taco and burger combinations, with sides like kale salad and fries. \\n\\nMy Indian tacos were A-OK.  Don&apos;t get me wrong - the fry bread was awesome!  It was soft and fluffy and had crispy edges.  I would&apos;ve happily just eaten it by itself.  But getting it as a taco, to sandwich the meat and toppings seemed to distract from the real winner of Off The Rez, the fry bread.  Both of my meats, chicken and pork were bland.  You&apos;d think that with the toppings it wouldn&apos;t be so, but they were.  My chicken taco included shredded cheese and slaw in a crema sauce while the pork one had a BBQ sauce with slaw and was supposed to have jalapenos, but sadly, they must&apos;ve forgot to put it on.  The sauces did help to add some flavor to the tacos, but meat just never came through.  My friend felt the same way about her Powwow Burger, saying that the beef patty tasted like it wasn&apos;t seasoned.  \\n\\nI advise getting a sweet fry bread item instead of a savory dish, in hopes that it fares much better.  The fry bread was really good, so the simpler the toppings, the better.',\n",
       " 'Food was great here and service was also nice! Their Fry-bread is crispy on the outside and soft inside. Their tacos were flavorful and i highly recommend the bison tacos. My girlfriend had the rice bowl and that was also delicious. I would definitely come back here again.',\n",
       " 'YUM! I got the carnitas, and that is some of the best meat I&apos;ve had in a long time. The slaw on top was fresh, crunchy, and matched the meats well. The chicken that my partner got was less than spectacular... but still good. I think if I started with the chicken, it would have been a lot better. Unfortunately for me, I started with the carnitas, and the flavor just blows everything else out of the water. My partner also got a lemon curd dessert fry bread and he enjoyed it. \\n\\nI want to try their burgers next! Thanks for making delicious food! It&apos;s awesome to sneak a little taste of your delicious world!',\n",
       " 'The chili is delicious. It&apos;s a bit more tomato-y than tex mex chili and has such a strong flavor profile, very well seasoned. Their fries are golden. My family adored their sweet fry bread. They have a range  from burgers to kale and quinoa salads. They also offer &quot;Indian tacos&quot; made with frybread. Check &apos;em out',\n",
       " 'The food in this cafe is remarkably delicious compared to most place you find inside of art instillations.  Usually food inside of museums etc. is overpriced and processed. I ordered the beef chili Indian taco. It was hand-crafted and well-conceived. Plus the orders came up quickly!  I rarely get over to the he UW. Campus, but now I have another reason to go.',\n",
       " 'I had the Spicy Chicken Frybread Grilled Cheese at the Grilled Cheese Grand Prix. It was very good! Such a good combination of flavors.',\n",
       " 'This place absolutely blew me . My only disappointment was not being able to eat even more beyond my stomach capacity! 10/10 on everything we are.',\n",
       " 'Good food, good service, just needs more bison sauce on the wild rice. Fry bread is super comfort food. Got half strawberry jam and nutella. Tacos were tasty too. They should open another location with a more expansive menu and execute similar to Tocabe.',\n",
       " 'They usually sell tacos in different spots over Seattle. It&apos;s inconvenient for me to go around but luckily, they have fixed located right Burke museum in UW campus !!! Their tacos is superior. No errors in their tacos . Cooked to perfection!!',\n",
       " 'Ordered for a company&apos;s party and it was delicious! We got savory and sweet version. We got cinnamon sugar, honey, and berries jam. \\nSavory we got chicken, beef, and vegetarian (beans and corn).\\nThe pickled onions were quite good as well. \\nWould recommend as a big party tray event.',\n",
       " 'I&apos;ve been a fan of Off the Rez and their delicious frybread tacos for years now. I really don&apos;t like the chicken one at all, and the beef one is okay, but the pulled pork taco is where it&apos;s at. I don&apos;t usually like barbecue sauce, but their combination of sauce and toppings is sublime.\\n\\nI always felt like there was too high of a filling to bread ratio (what a problem to have, right?), but the last time I was there, they actually fixed it. It seemed like the piece of frybread was a lot bigger, and now it&apos;s absolutely perfect.\\n\\nIf you haven&apos;t tried their tacos yet, you need to - just make sure you get the pork.',\n",
       " 'Exceptional service! It was fun watching him gently knead the dough and then dip it in the fryer. Husband had a bison taco and I had pulled pork and both were outstanding! He had the fry bread with their house made lemon curd and it was divine. 10 stars!',\n",
       " 'Off the Rez is amazing!! 10/10 would always get the bison taco or something sweet!! The coffee is amazing also!',\n",
       " 'This is interesting combo: Indian flatbread with contemporary Taco.  I ordered bison and chili choices and both are pretty good.  Indian Flatbread was fluffy, the meat and the topping mixed well, together was a great intriguing snack.  It was a small taco so you will need 2 for lunch/dinner. \\nAlso the cafe is next to the museum so You can tell the entrance staff withiutbbiuyjng the ticket and park the lot in front of the museum and cafe.  Pay by mobile or the machine for parking fee (the day we visited, the machine was broken, we paid and extended hours by mobile app).  \\nThe staffs were nice and the cafe was clean and neat.  We will be back!',\n",
       " 'Off The Rez was off the hook.\\n\\nCame here because it was parked at Optimism Brewing where they do not sell food, thank goodness Off The Rez saved me from starvation at a birthday gathering. Not sure exactly how to describe this truck as it&apos;s not a taco truck, but they do have tacos. They call them, &quot;Indian tacos&quot; because it&apos;s starved on an air-fried bread which to my surprise, it was delicious. 2 tacos was filling! The guy that served me was also really nice. \\n\\nNow that I have time to sit down and do some research, this truck is known for their air-fried bread that they serve in more variety besides tacos. I hope to see them again next time I visit Optimism Brewing, but I guess they rotate out the food trucks on a daily so make sure you follow their schedule.\\n\\nTell me about your experience if you&apos;ve been here or is going to after reading this review:)',\n",
       " 'We were first introduced to these guys at the food and wine experience in 2019. Living over in Yakima, the name was instantly intriguing, and after talking to the guys, we liked them even more.\\n\\nThe guys running the place is super cool bunch that are taking a traditional native dish and giving it a little modern flair. Most of the fry bread we have on the side of the mountains is of the sweet variety - The first time I had one, it reminded me of a thick, smaller elephant ear with a lot of good stuff on top. Here they sell a couple different versions. The sweet fry bread is more what we have been used to and they serve it with any of a number of different topping options. We were pretty impressive what they were offering! The guava curd was ultimately the choice and it was legit! If the English Tea-aristocracy gets wind of it, they may trade out their lemon curd! Honey, a bunch of different berries and cinnamon/sugar were the other options and I imagine all are legit!\\n\\nThe savory options are termed Indian Tacos. These are probably the best we&apos;ve ever tasted! We had a braised bison one and it was pretty amazing. The opportunity to consume a less common meat on some next level fried carbs was exactly what we were looking for.\\n\\nThe place has a decent amount of seating and you can go into the museum front room and eat as well. They&apos;ve got decent beverage options including- beer - wine - pop - coffee &amp; juice.\\n\\nWhile it&apos;s not the most convenient location, the food is exceptionally good and the guys running the place are doing a solid job. If you&apos;re in the area, it&apos;s definitely worth your time to check it out.',\n",
       " 'I love this place and love the consistency of quality each time! Both food truck and museum locations have been satisfactory. It is packaged well and the customer service is great!',\n",
       " 'This review is for the brick and mortar location, not the truck. Off the Rez is so delicious and their fry bread is made fresh, with high-quality ingredients, at extremely reasonable prices.  I have nothing bad to say about anything we ate at this restaurant and wish it was open later or had another location so we could here more often!\\n\\nThe chili taco is the play here - I went with the classic beef but have heard good things about the others ones as well.  There was a generous amount of chili on the bread and it was flavorful and spiced well but wasn&apos;t spicy hot.  We also got the seasonal cranberry fry bread which was so good our group of 6 ended up getting 3 to share (we initially all naively thought we could just share bites of 1 - wrong).  \\n\\nThe sides here are good as well if you&apos;re trying to get some veggies in alongside the deep-fried goodness - the Kale salad was fresh and the dressing was pretty tasty and the coleslaw was solid, though not as memorable as the other things we ate.\\n\\nAlso be sure to check out the various beverage options they&apos;ve got up by the register - we were happy to see a variety of both beers and non-alcoholic beverages.',\n",
       " 'The only thing better that my top 5 food truck experiences is to have a sit down option too. Today we checked out the new location inside of the Burke Museum after attending a great play at the UW School of Drama (plug for them too!). Even though they are open until 5 on Sundays (same hours as the museum, although they have their own separate entrance) they seemed eager to close early when we arrived as the only customers at 4:35. No matter, they were friendly, took our order and in no time we were enjoying two savory fry bread tacos along with one sweet one to share. The chili verde chicken and pulled pork selections were both great, as was the honey soaked dessert. Prices were very reasonable for what amounts to a museum cafe. I can&apos;t wait to come back and try other items.',\n",
       " 'One of my favorite trucks in Seattle:\\n\\nQuality: the veggie tacos are good. The fry bread is fresh and the chili is well seasoned. I would like more veggies on the veggie tacos, but they are delicious nevertheless.\\n\\nQuantity: the fry bread is thick and the put enough chilli on it to make it filling. I usually buy 3, but 2 is still plenty.\\n\\nService: classic food truck service, nothing to rave or complain about\\n\\nPrice: $5 per taco is steep, so I get it once per month only. They are pretty pricey, so be prepared to splurge.',\n",
       " 'I&apos;m glad Off The Rez specializes in fry bread because damn, it was good and there really aren&apos;t many places that do it.  But the savory dishes seemed to be amiss. \\n\\nMy friend and I spotted this food truck, as it was the truck that was parked outside of Optimism Brewery when we visited.  You always need bites with your beer; and when she found out that Off the Rez was here, she was excited to try their fry bread.  I had never eaten fry bread before, but was down to try something new. \\n\\nMy friend ordered the Powwow Burger, a bacon cheeseburger with fry bread for buns, while I had two Indian tacos, one with pork and the other with chicken.  Menu was pretty standard with taco and burger combinations, with sides like kale salad and fries. \\n\\nMy Indian tacos were A-OK.  Don&apos;t get me wrong - the fry bread was awesome!  It was soft and fluffy and had crispy edges.  I would&apos;ve happily just eaten it by itself.  But getting it as a taco, to sandwich the meat and toppings seemed to distract from the real winner of Off The Rez, the fry bread.  Both of my meats, chicken and pork were bland.  You&apos;d think that with the toppings it wouldn&apos;t be so, but they were.  My chicken taco included shredded cheese and slaw in a crema sauce while the pork one had a BBQ sauce with slaw and was supposed to have jalapenos, but sadly, they must&apos;ve forgot to put it on.  The sauces did help to add some flavor to the tacos, but meat just never came through.  My friend felt the same way about her Powwow Burger, saying that the beef patty tasted like it wasn&apos;t seasoned.  \\n\\nI advise getting a sweet fry bread item instead of a savory dish, in hopes that it fares much better.  The fry bread was really good, so the simpler the toppings, the better.',\n",
       " 'Food was great here and service was also nice! Their Fry-bread is crispy on the outside and soft inside. Their tacos were flavorful and i highly recommend the bison tacos. My girlfriend had the rice bowl and that was also delicious. I would definitely come back here again.',\n",
       " 'YUM! I got the carnitas, and that is some of the best meat I&apos;ve had in a long time. The slaw on top was fresh, crunchy, and matched the meats well. The chicken that my partner got was less than spectacular... but still good. I think if I started with the chicken, it would have been a lot better. Unfortunately for me, I started with the carnitas, and the flavor just blows everything else out of the water. My partner also got a lemon curd dessert fry bread and he enjoyed it. \\n\\nI want to try their burgers next! Thanks for making delicious food! It&apos;s awesome to sneak a little taste of your delicious world!',\n",
       " 'The chili is delicious. It&apos;s a bit more tomato-y than tex mex chili and has such a strong flavor profile, very well seasoned. Their fries are golden. My family adored their sweet fry bread. They have a range  from burgers to kale and quinoa salads. They also offer &quot;Indian tacos&quot; made with frybread. Check &apos;em out',\n",
       " 'The food in this cafe is remarkably delicious compared to most place you find inside of art instillations.  Usually food inside of museums etc. is overpriced and processed. I ordered the beef chili Indian taco. It was hand-crafted and well-conceived. Plus the orders came up quickly!  I rarely get over to the he UW. Campus, but now I have another reason to go.',\n",
       " 'I had the Spicy Chicken Frybread Grilled Cheese at the Grilled Cheese Grand Prix. It was very good! Such a good combination of flavors.',\n",
       " 'This place absolutely blew me . My only disappointment was not being able to eat even more beyond my stomach capacity! 10/10 on everything we are.',\n",
       " 'Good food, good service, just needs more bison sauce on the wild rice. Fry bread is super comfort food. Got half strawberry jam and nutella. Tacos were tasty too. They should open another location with a more expansive menu and execute similar to Tocabe.',\n",
       " 'They usually sell tacos in different spots over Seattle. It&apos;s inconvenient for me to go around but luckily, they have fixed located right Burke museum in UW campus !!! Their tacos is superior. No errors in their tacos . Cooked to perfection!!',\n",
       " 'Ordered for a company&apos;s party and it was delicious! We got savory and sweet version. We got cinnamon sugar, honey, and berries jam. \\nSavory we got chicken, beef, and vegetarian (beans and corn).\\nThe pickled onions were quite good as well. \\nWould recommend as a big party tray event.',\n",
       " 'I&apos;ve been a fan of Off the Rez and their delicious frybread tacos for years now. I really don&apos;t like the chicken one at all, and the beef one is okay, but the pulled pork taco is where it&apos;s at. I don&apos;t usually like barbecue sauce, but their combination of sauce and toppings is sublime.\\n\\nI always felt like there was too high of a filling to bread ratio (what a problem to have, right?), but the last time I was there, they actually fixed it. It seemed like the piece of frybread was a lot bigger, and now it&apos;s absolutely perfect.\\n\\nIf you haven&apos;t tried their tacos yet, you need to - just make sure you get the pork.',\n",
       " 'Exceptional service! It was fun watching him gently knead the dough and then dip it in the fryer. Husband had a bison taco and I had pulled pork and both were outstanding! He had the fry bread with their house made lemon curd and it was divine. 10 stars!',\n",
       " 'Off the Rez is amazing!! 10/10 would always get the bison taco or something sweet!! The coffee is amazing also!',\n",
       " 'This is interesting combo: Indian flatbread with contemporary Taco.  I ordered bison and chili choices and both are pretty good.  Indian Flatbread was fluffy, the meat and the topping mixed well, together was a great intriguing snack.  It was a small taco so you will need 2 for lunch/dinner. \\nAlso the cafe is next to the museum so You can tell the entrance staff withiutbbiuyjng the ticket and park the lot in front of the museum and cafe.  Pay by mobile or the machine for parking fee (the day we visited, the machine was broken, we paid and extended hours by mobile app).  \\nThe staffs were nice and the cafe was clean and neat.  We will be back!',\n",
       " 'Off The Rez was off the hook.\\n\\nCame here because it was parked at Optimism Brewing where they do not sell food, thank goodness Off The Rez saved me from starvation at a birthday gathering. Not sure exactly how to describe this truck as it&apos;s not a taco truck, but they do have tacos. They call them, &quot;Indian tacos&quot; because it&apos;s starved on an air-fried bread which to my surprise, it was delicious. 2 tacos was filling! The guy that served me was also really nice. \\n\\nNow that I have time to sit down and do some research, this truck is known for their air-fried bread that they serve in more variety besides tacos. I hope to see them again next time I visit Optimism Brewing, but I guess they rotate out the food trucks on a daily so make sure you follow their schedule.\\n\\nTell me about your experience if you&apos;ve been here or is going to after reading this review:)',\n",
       " 'We were first introduced to these guys at the food and wine experience in 2019. Living over in Yakima, the name was instantly intriguing, and after talking to the guys, we liked them even more.\\n\\nThe guys running the place is super cool bunch that are taking a traditional native dish and giving it a little modern flair. Most of the fry bread we have on the side of the mountains is of the sweet variety - The first time I had one, it reminded me of a thick, smaller elephant ear with a lot of good stuff on top. Here they sell a couple different versions. The sweet fry bread is more what we have been used to and they serve it with any of a number of different topping options. We were pretty impressive what they were offering! The guava curd was ultimately the choice and it was legit! If the English Tea-aristocracy gets wind of it, they may trade out their lemon curd! Honey, a bunch of different berries and cinnamon/sugar were the other options and I imagine all are legit!\\n\\nThe savory options are termed Indian Tacos. These are probably the best we&apos;ve ever tasted! We had a braised bison one and it was pretty amazing. The opportunity to consume a less common meat on some next level fried carbs was exactly what we were looking for.\\n\\nThe place has a decent amount of seating and you can go into the museum front room and eat as well. They&apos;ve got decent beverage options including- beer - wine - pop - coffee &amp; juice.\\n\\nWhile it&apos;s not the most convenient location, the food is exceptionally good and the guys running the place are doing a solid job. If you&apos;re in the area, it&apos;s definitely worth your time to check it out.',\n",
       " 'I love this place and love the consistency of quality each time! Both food truck and museum locations have been satisfactory. It is packaged well and the customer service is great!',\n",
       " 'This review is for the brick and mortar location, not the truck. Off the Rez is so delicious and their fry bread is made fresh, with high-quality ingredients, at extremely reasonable prices.  I have nothing bad to say about anything we ate at this restaurant and wish it was open later or had another location so we could here more often!\\n\\nThe chili taco is the play here - I went with the classic beef but have heard good things about the others ones as well.  There was a generous amount of chili on the bread and it was flavorful and spiced well but wasn&apos;t spicy hot.  We also got the seasonal cranberry fry bread which was so good our group of 6 ended up getting 3 to share (we initially all naively thought we could just share bites of 1 - wrong).  \\n\\nThe sides here are good as well if you&apos;re trying to get some veggies in alongside the deep-fried goodness - the Kale salad was fresh and the dressing was pretty tasty and the coleslaw was solid, though not as memorable as the other things we ate.\\n\\nAlso be sure to check out the various beverage options they&apos;ve got up by the register - we were happy to see a variety of both beers and non-alcoholic beverages.',\n",
       " 'The only thing better that my top 5 food truck experiences is to have a sit down option too. Today we checked out the new location inside of the Burke Museum after attending a great play at the UW School of Drama (plug for them too!). Even though they are open until 5 on Sundays (same hours as the museum, although they have their own separate entrance) they seemed eager to close early when we arrived as the only customers at 4:35. No matter, they were friendly, took our order and in no time we were enjoying two savory fry bread tacos along with one sweet one to share. The chili verde chicken and pulled pork selections were both great, as was the honey soaked dessert. Prices were very reasonable for what amounts to a museum cafe. I can&apos;t wait to come back and try other items.',\n",
       " 'One of my favorite trucks in Seattle:\\n\\nQuality: the veggie tacos are good. The fry bread is fresh and the chili is well seasoned. I would like more veggies on the veggie tacos, but they are delicious nevertheless.\\n\\nQuantity: the fry bread is thick and the put enough chilli on it to make it filling. I usually buy 3, but 2 is still plenty.\\n\\nService: classic food truck service, nothing to rave or complain about\\n\\nPrice: $5 per taco is steep, so I get it once per month only. They are pretty pricey, so be prepared to splurge.',\n",
       " 'I&apos;m glad Off The Rez specializes in fry bread because damn, it was good and there really aren&apos;t many places that do it.  But the savory dishes seemed to be amiss. \\n\\nMy friend and I spotted this food truck, as it was the truck that was parked outside of Optimism Brewery when we visited.  You always need bites with your beer; and when she found out that Off the Rez was here, she was excited to try their fry bread.  I had never eaten fry bread before, but was down to try something new. \\n\\nMy friend ordered the Powwow Burger, a bacon cheeseburger with fry bread for buns, while I had two Indian tacos, one with pork and the other with chicken.  Menu was pretty standard with taco and burger combinations, with sides like kale salad and fries. \\n\\nMy Indian tacos were A-OK.  Don&apos;t get me wrong - the fry bread was awesome!  It was soft and fluffy and had crispy edges.  I would&apos;ve happily just eaten it by itself.  But getting it as a taco, to sandwich the meat and toppings seemed to distract from the real winner of Off The Rez, the fry bread.  Both of my meats, chicken and pork were bland.  You&apos;d think that with the toppings it wouldn&apos;t be so, but they were.  My chicken taco included shredded cheese and slaw in a crema sauce while the pork one had a BBQ sauce with slaw and was supposed to have jalapenos, but sadly, they must&apos;ve forgot to put it on.  The sauces did help to add some flavor to the tacos, but meat just never came through.  My friend felt the same way about her Powwow Burger, saying that the beef patty tasted like it wasn&apos;t seasoned.  \\n\\nI advise getting a sweet fry bread item instead of a savory dish, in hopes that it fares much better.  The fry bread was really good, so the simpler the toppings, the better.',\n",
       " 'Food was great here and service was also nice! Their Fry-bread is crispy on the outside and soft inside. Their tacos were flavorful and i highly recommend the bison tacos. My girlfriend had the rice bowl and that was also delicious. I would definitely come back here again.',\n",
       " 'YUM! I got the carnitas, and that is some of the best meat I&apos;ve had in a long time. The slaw on top was fresh, crunchy, and matched the meats well. The chicken that my partner got was less than spectacular... but still good. I think if I started with the chicken, it would have been a lot better. Unfortunately for me, I started with the carnitas, and the flavor just blows everything else out of the water. My partner also got a lemon curd dessert fry bread and he enjoyed it. \\n\\nI want to try their burgers next! Thanks for making delicious food! It&apos;s awesome to sneak a little taste of your delicious world!',\n",
       " 'The chili is delicious. It&apos;s a bit more tomato-y than tex mex chili and has such a strong flavor profile, very well seasoned. Their fries are golden. My family adored their sweet fry bread. They have a range  from burgers to kale and quinoa salads. They also offer &quot;Indian tacos&quot; made with frybread. Check &apos;em out',\n",
       " 'The food in this cafe is remarkably delicious compared to most place you find inside of art instillations.  Usually food inside of museums etc. is overpriced and processed. I ordered the beef chili Indian taco. It was hand-crafted and well-conceived. Plus the orders came up quickly!  I rarely get over to the he UW. Campus, but now I have another reason to go.',\n",
       " 'I had the Spicy Chicken Frybread Grilled Cheese at the Grilled Cheese Grand Prix. It was very good! Such a good combination of flavors.',\n",
       " 'This place absolutely blew me . My only disappointment was not being able to eat even more beyond my stomach capacity! 10/10 on everything we are.',\n",
       " 'Good food, good service, just needs more bison sauce on the wild rice. Fry bread is super comfort food. Got half strawberry jam and nutella. Tacos were tasty too. They should open another location with a more expansive menu and execute similar to Tocabe.',\n",
       " 'They usually sell tacos in different spots over Seattle. It&apos;s inconvenient for me to go around but luckily, they have fixed located right Burke museum in UW campus !!! Their tacos is superior. No errors in their tacos . Cooked to perfection!!',\n",
       " 'Ordered for a company&apos;s party and it was delicious! We got savory and sweet version. We got cinnamon sugar, honey, and berries jam. \\nSavory we got chicken, beef, and vegetarian (beans and corn).\\nThe pickled onions were quite good as well. \\nWould recommend as a big party tray event.',\n",
       " 'I&apos;ve been a fan of Off the Rez and their delicious frybread tacos for years now. I really don&apos;t like the chicken one at all, and the beef one is okay, but the pulled pork taco is where it&apos;s at. I don&apos;t usually like barbecue sauce, but their combination of sauce and toppings is sublime.\\n\\nI always felt like there was too high of a filling to bread ratio (what a problem to have, right?), but the last time I was there, they actually fixed it. It seemed like the piece of frybread was a lot bigger, and now it&apos;s absolutely perfect.\\n\\nIf you haven&apos;t tried their tacos yet, you need to - just make sure you get the pork.',\n",
       " 'Exceptional service! It was fun watching him gently knead the dough and then dip it in the fryer. Husband had a bison taco and I had pulled pork and both were outstanding! He had the fry bread with their house made lemon curd and it was divine. 10 stars!',\n",
       " 'Off the Rez is amazing!! 10/10 would always get the bison taco or something sweet!! The coffee is amazing also!',\n",
       " 'This is interesting combo: Indian flatbread with contemporary Taco.  I ordered bison and chili choices and both are pretty good.  Indian Flatbread was fluffy, the meat and the topping mixed well, together was a great intriguing snack.  It was a small taco so you will need 2 for lunch/dinner. \\nAlso the cafe is next to the museum so You can tell the entrance staff withiutbbiuyjng the ticket and park the lot in front of the museum and cafe.  Pay by mobile or the machine for parking fee (the day we visited, the machine was broken, we paid and extended hours by mobile app).  \\nThe staffs were nice and the cafe was clean and neat.  We will be back!',\n",
       " 'Off The Rez was off the hook.\\n\\nCame here because it was parked at Optimism Brewing where they do not sell food, thank goodness Off The Rez saved me from starvation at a birthday gathering. Not sure exactly how to describe this truck as it&apos;s not a taco truck, but they do have tacos. They call them, &quot;Indian tacos&quot; because it&apos;s starved on an air-fried bread which to my surprise, it was delicious. 2 tacos was filling! The guy that served me was also really nice. \\n\\nNow that I have time to sit down and do some research, this truck is known for their air-fried bread that they serve in more variety besides tacos. I hope to see them again next time I visit Optimism Brewing, but I guess they rotate out the food trucks on a daily so make sure you follow their schedule.\\n\\nTell me about your experience if you&apos;ve been here or is going to after reading this review:)',\n",
       " 'We were first introduced to these guys at the food and wine experience in 2019. Living over in Yakima, the name was instantly intriguing, and after talking to the guys, we liked them even more.\\n\\nThe guys running the place is super cool bunch that are taking a traditional native dish and giving it a little modern flair. Most of the fry bread we have on the side of the mountains is of the sweet variety - The first time I had one, it reminded me of a thick, smaller elephant ear with a lot of good stuff on top. Here they sell a couple different versions. The sweet fry bread is more what we have been used to and they serve it with any of a number of different topping options. We were pretty impressive what they were offering! The guava curd was ultimately the choice and it was legit! If the English Tea-aristocracy gets wind of it, they may trade out their lemon curd! Honey, a bunch of different berries and cinnamon/sugar were the other options and I imagine all are legit!\\n\\nThe savory options are termed Indian Tacos. These are probably the best we&apos;ve ever tasted! We had a braised bison one and it was pretty amazing. The opportunity to consume a less common meat on some next level fried carbs was exactly what we were looking for.\\n\\nThe place has a decent amount of seating and you can go into the museum front room and eat as well. They&apos;ve got decent beverage options including- beer - wine - pop - coffee &amp; juice.\\n\\nWhile it&apos;s not the most convenient location, the food is exceptionally good and the guys running the place are doing a solid job. If you&apos;re in the area, it&apos;s definitely worth your time to check it out.',\n",
       " 'I love this place and love the consistency of quality each time! Both food truck and museum locations have been satisfactory. It is packaged well and the customer service is great!',\n",
       " 'This review is for the brick and mortar location, not the truck. Off the Rez is so delicious and their fry bread is made fresh, with high-quality ingredients, at extremely reasonable prices.  I have nothing bad to say about anything we ate at this restaurant and wish it was open later or had another location so we could here more often!\\n\\nThe chili taco is the play here - I went with the classic beef but have heard good things about the others ones as well.  There was a generous amount of chili on the bread and it was flavorful and spiced well but wasn&apos;t spicy hot.  We also got the seasonal cranberry fry bread which was so good our group of 6 ended up getting 3 to share (we initially all naively thought we could just share bites of 1 - wrong).  \\n\\nThe sides here are good as well if you&apos;re trying to get some veggies in alongside the deep-fried goodness - the Kale salad was fresh and the dressing was pretty tasty and the coleslaw was solid, though not as memorable as the other things we ate.\\n\\nAlso be sure to check out the various beverage options they&apos;ve got up by the register - we were happy to see a variety of both beers and non-alcoholic beverages.',\n",
       " 'The only thing better that my top 5 food truck experiences is to have a sit down option too. Today we checked out the new location inside of the Burke Museum after attending a great play at the UW School of Drama (plug for them too!). Even though they are open until 5 on Sundays (same hours as the museum, although they have their own separate entrance) they seemed eager to close early when we arrived as the only customers at 4:35. No matter, they were friendly, took our order and in no time we were enjoying two savory fry bread tacos along with one sweet one to share. The chili verde chicken and pulled pork selections were both great, as was the honey soaked dessert. Prices were very reasonable for what amounts to a museum cafe. I can&apos;t wait to come back and try other items.',\n",
       " 'One of my favorite trucks in Seattle:\\n\\nQuality: the veggie tacos are good. The fry bread is fresh and the chili is well seasoned. I would like more veggies on the veggie tacos, but they are delicious nevertheless.\\n\\nQuantity: the fry bread is thick and the put enough chilli on it to make it filling. I usually buy 3, but 2 is still plenty.\\n\\nService: classic food truck service, nothing to rave or complain about\\n\\nPrice: $5 per taco is steep, so I get it once per month only. They are pretty pricey, so be prepared to splurge.',\n",
       " 'I&apos;m glad Off The Rez specializes in fry bread because damn, it was good and there really aren&apos;t many places that do it.  But the savory dishes seemed to be amiss. \\n\\nMy friend and I spotted this food truck, as it was the truck that was parked outside of Optimism Brewery when we visited.  You always need bites with your beer; and when she found out that Off the Rez was here, she was excited to try their fry bread.  I had never eaten fry bread before, but was down to try something new. \\n\\nMy friend ordered the Powwow Burger, a bacon cheeseburger with fry bread for buns, while I had two Indian tacos, one with pork and the other with chicken.  Menu was pretty standard with taco and burger combinations, with sides like kale salad and fries. \\n\\nMy Indian tacos were A-OK.  Don&apos;t get me wrong - the fry bread was awesome!  It was soft and fluffy and had crispy edges.  I would&apos;ve happily just eaten it by itself.  But getting it as a taco, to sandwich the meat and toppings seemed to distract from the real winner of Off The Rez, the fry bread.  Both of my meats, chicken and pork were bland.  You&apos;d think that with the toppings it wouldn&apos;t be so, but they were.  My chicken taco included shredded cheese and slaw in a crema sauce while the pork one had a BBQ sauce with slaw and was supposed to have jalapenos, but sadly, they must&apos;ve forgot to put it on.  The sauces did help to add some flavor to the tacos, but meat just never came through.  My friend felt the same way about her Powwow Burger, saying that the beef patty tasted like it wasn&apos;t seasoned.  \\n\\nI advise getting a sweet fry bread item instead of a savory dish, in hopes that it fares much better.  The fry bread was really good, so the simpler the toppings, the better.',\n",
       " 'Food was great here and service was also nice! Their Fry-bread is crispy on the outside and soft inside. Their tacos were flavorful and i highly recommend the bison tacos. My girlfriend had the rice bowl and that was also delicious. I would definitely come back here again.',\n",
       " 'YUM! I got the carnitas, and that is some of the best meat I&apos;ve had in a long time. The slaw on top was fresh, crunchy, and matched the meats well. The chicken that my partner got was less than spectacular... but still good. I think if I started with the chicken, it would have been a lot better. Unfortunately for me, I started with the carnitas, and the flavor just blows everything else out of the water. My partner also got a lemon curd dessert fry bread and he enjoyed it. \\n\\nI want to try their burgers next! Thanks for making delicious food! It&apos;s awesome to sneak a little taste of your delicious world!',\n",
       " 'The chili is delicious. It&apos;s a bit more tomato-y than tex mex chili and has such a strong flavor profile, very well seasoned. Their fries are golden. My family adored their sweet fry bread. They have a range  from burgers to kale and quinoa salads. They also offer &quot;Indian tacos&quot; made with frybread. Check &apos;em out',\n",
       " 'The food in this cafe is remarkably delicious compared to most place you find inside of art instillations.  Usually food inside of museums etc. is overpriced and processed. I ordered the beef chili Indian taco. It was hand-crafted and well-conceived. Plus the orders came up quickly!  I rarely get over to the he UW. Campus, but now I have another reason to go.',\n",
       " 'I had the Spicy Chicken Frybread Grilled Cheese at the Grilled Cheese Grand Prix. It was very good! Such a good combination of flavors.',\n",
       " 'This place absolutely blew me . My only disappointment was not being able to eat even more beyond my stomach capacity! 10/10 on everything we are.',\n",
       " 'Good food, good service, just needs more bison sauce on the wild rice. Fry bread is super comfort food. Got half strawberry jam and nutella. Tacos were tasty too. They should open another location with a more expansive menu and execute similar to Tocabe.',\n",
       " 'They usually sell tacos in different spots over Seattle. It&apos;s inconvenient for me to go around but luckily, they have fixed located right Burke museum in UW campus !!! Their tacos is superior. No errors in their tacos . Cooked to perfection!!',\n",
       " 'Ordered for a company&apos;s party and it was delicious! We got savory and sweet version. We got cinnamon sugar, honey, and berries jam. \\nSavory we got chicken, beef, and vegetarian (beans and corn).\\nThe pickled onions were quite good as well. \\nWould recommend as a big party tray event.',\n",
       " 'I&apos;ve been a fan of Off the Rez and their delicious frybread tacos for years now. I really don&apos;t like the chicken one at all, and the beef one is okay, but the pulled pork taco is where it&apos;s at. I don&apos;t usually like barbecue sauce, but their combination of sauce and toppings is sublime.\\n\\nI always felt like there was too high of a filling to bread ratio (what a problem to have, right?), but the last time I was there, they actually fixed it. It seemed like the piece of frybread was a lot bigger, and now it&apos;s absolutely perfect.\\n\\nIf you haven&apos;t tried their tacos yet, you need to - just make sure you get the pork.',\n",
       " 'Exceptional service! It was fun watching him gently knead the dough and then dip it in the fryer. Husband had a bison taco and I had pulled pork and both were outstanding! He had the fry bread with their house made lemon curd and it was divine. 10 stars!',\n",
       " 'Off the Rez is amazing!! 10/10 would always get the bison taco or something sweet!! The coffee is amazing also!',\n",
       " 'This is interesting combo: Indian flatbread with contemporary Taco.  I ordered bison and chili choices and both are pretty good.  Indian Flatbread was fluffy, the meat and the topping mixed well, together was a great intriguing snack.  It was a small taco so you will need 2 for lunch/dinner. \\nAlso the cafe is next to the museum so You can tell the entrance staff withiutbbiuyjng the ticket and park the lot in front of the museum and cafe.  Pay by mobile or the machine for parking fee (the day we visited, the machine was broken, we paid and extended hours by mobile app).  \\nThe staffs were nice and the cafe was clean and neat.  We will be back!',\n",
       " 'Off The Rez was off the hook.\\n\\nCame here because it was parked at Optimism Brewing where they do not sell food, thank goodness Off The Rez saved me from starvation at a birthday gathering. Not sure exactly how to describe this truck as it&apos;s not a taco truck, but they do have tacos. They call them, &quot;Indian tacos&quot; because it&apos;s starved on an air-fried bread which to my surprise, it was delicious. 2 tacos was filling! The guy that served me was also really nice. \\n\\nNow that I have time to sit down and do some research, this truck is known for their air-fried bread that they serve in more variety besides tacos. I hope to see them again next time I visit Optimism Brewing, but I guess they rotate out the food trucks on a daily so make sure you follow their schedule.\\n\\nTell me about your experience if you&apos;ve been here or is going to after reading this review:)',\n",
       " 'We were first introduced to these guys at the food and wine experience in 2019. Living over in Yakima, the name was instantly intriguing, and after talking to the guys, we liked them even more.\\n\\nThe guys running the place is super cool bunch that are taking a traditional native dish and giving it a little modern flair. Most of the fry bread we have on the side of the mountains is of the sweet variety - The first time I had one, it reminded me of a thick, smaller elephant ear with a lot of good stuff on top. Here they sell a couple different versions. The sweet fry bread is more what we have been used to and they serve it with any of a number of different topping options. We were pretty impressive what they were offering! The guava curd was ultimately the choice and it was legit! If the English Tea-aristocracy gets wind of it, they may trade out their lemon curd! Honey, a bunch of different berries and cinnamon/sugar were the other options and I imagine all are legit!\\n\\nThe savory options are termed Indian Tacos. These are probably the best we&apos;ve ever tasted! We had a braised bison one and it was pretty amazing. The opportunity to consume a less common meat on some next level fried carbs was exactly what we were looking for.\\n\\nThe place has a decent amount of seating and you can go into the museum front room and eat as well. They&apos;ve got decent beverage options including- beer - wine - pop - coffee &amp; juice.\\n\\nWhile it&apos;s not the most convenient location, the food is exceptionally good and the guys running the place are doing a solid job. If you&apos;re in the area, it&apos;s definitely worth your time to check it out.',\n",
       " 'I love this place and love the consistency of quality each time! Both food truck and museum locations have been satisfactory. It is packaged well and the customer service is great!',\n",
       " 'This review is for the brick and mortar location, not the truck. Off the Rez is so delicious and their fry bread is made fresh, with high-quality ingredients, at extremely reasonable prices.  I have nothing bad to say about anything we ate at this restaurant and wish it was open later or had another location so we could here more often!\\n\\nThe chili taco is the play here - I went with the classic beef but have heard good things about the others ones as well.  There was a generous amount of chili on the bread and it was flavorful and spiced well but wasn&apos;t spicy hot.  We also got the seasonal cranberry fry bread which was so good our group of 6 ended up getting 3 to share (we initially all naively thought we could just share bites of 1 - wrong).  \\n\\nThe sides here are good as well if you&apos;re trying to get some veggies in alongside the deep-fried goodness - the Kale salad was fresh and the dressing was pretty tasty and the coleslaw was solid, though not as memorable as the other things we ate.\\n\\nAlso be sure to check out the various beverage options they&apos;ve got up by the register - we were happy to see a variety of both beers and non-alcoholic beverages.',\n",
       " 'The only thing better that my top 5 food truck experiences is to have a sit down option too. Today we checked out the new location inside of the Burke Museum after attending a great play at the UW School of Drama (plug for them too!). Even though they are open until 5 on Sundays (same hours as the museum, although they have their own separate entrance) they seemed eager to close early when we arrived as the only customers at 4:35. No matter, they were friendly, took our order and in no time we were enjoying two savory fry bread tacos along with one sweet one to share. The chili verde chicken and pulled pork selections were both great, as was the honey soaked dessert. Prices were very reasonable for what amounts to a museum cafe. I can&apos;t wait to come back and try other items.',\n",
       " 'One of my favorite trucks in Seattle:\\n\\nQuality: the veggie tacos are good. The fry bread is fresh and the chili is well seasoned. I would like more veggies on the veggie tacos, but they are delicious nevertheless.\\n\\nQuantity: the fry bread is thick and the put enough chilli on it to make it filling. I usually buy 3, but 2 is still plenty.\\n\\nService: classic food truck service, nothing to rave or complain about\\n\\nPrice: $5 per taco is steep, so I get it once per month only. They are pretty pricey, so be prepared to splurge.',\n",
       " 'I&apos;m glad Off The Rez specializes in fry bread because damn, it was good and there really aren&apos;t many places that do it.  But the savory dishes seemed to be amiss. \\n\\nMy friend and I spotted this food truck, as it was the truck that was parked outside of Optimism Brewery when we visited.  You always need bites with your beer; and when she found out that Off the Rez was here, she was excited to try their fry bread.  I had never eaten fry bread before, but was down to try something new. \\n\\nMy friend ordered the Powwow Burger, a bacon cheeseburger with fry bread for buns, while I had two Indian tacos, one with pork and the other with chicken.  Menu was pretty standard with taco and burger combinations, with sides like kale salad and fries. \\n\\nMy Indian tacos were A-OK.  Don&apos;t get me wrong - the fry bread was awesome!  It was soft and fluffy and had crispy edges.  I would&apos;ve happily just eaten it by itself.  But getting it as a taco, to sandwich the meat and toppings seemed to distract from the real winner of Off The Rez, the fry bread.  Both of my meats, chicken and pork were bland.  You&apos;d think that with the toppings it wouldn&apos;t be so, but they were.  My chicken taco included shredded cheese and slaw in a crema sauce while the pork one had a BBQ sauce with slaw and was supposed to have jalapenos, but sadly, they must&apos;ve forgot to put it on.  The sauces did help to add some flavor to the tacos, but meat just never came through.  My friend felt the same way about her Powwow Burger, saying that the beef patty tasted like it wasn&apos;t seasoned.  \\n\\nI advise getting a sweet fry bread item instead of a savory dish, in hopes that it fares much better.  The fry bread was really good, so the simpler the toppings, the better.',\n",
       " 'Food was great here and service was also nice! Their Fry-bread is crispy on the outside and soft inside. Their tacos were flavorful and i highly recommend the bison tacos. My girlfriend had the rice bowl and that was also delicious. I would definitely come back here again.',\n",
       " 'YUM! I got the carnitas, and that is some of the best meat I&apos;ve had in a long time. The slaw on top was fresh, crunchy, and matched the meats well. The chicken that my partner got was less than spectacular... but still good. I think if I started with the chicken, it would have been a lot better. Unfortunately for me, I started with the carnitas, and the flavor just blows everything else out of the water. My partner also got a lemon curd dessert fry bread and he enjoyed it. \\n\\nI want to try their burgers next! Thanks for making delicious food! It&apos;s awesome to sneak a little taste of your delicious world!',\n",
       " 'The chili is delicious. It&apos;s a bit more tomato-y than tex mex chili and has such a strong flavor profile, very well seasoned. Their fries are golden. My family adored their sweet fry bread. They have a range  from burgers to kale and quinoa salads. They also offer &quot;Indian tacos&quot; made with frybread. Check &apos;em out',\n",
       " 'The food in this cafe is remarkably delicious compared to most place you find inside of art instillations.  Usually food inside of museums etc. is overpriced and processed. I ordered the beef chili Indian taco. It was hand-crafted and well-conceived. Plus the orders came up quickly!  I rarely get over to the he UW. Campus, but now I have another reason to go.',\n",
       " 'I had the Spicy Chicken Frybread Grilled Cheese at the Grilled Cheese Grand Prix. It was very good! Such a good combination of flavors.',\n",
       " 'This place absolutely blew me . My only disappointment was not being able to eat even more beyond my stomach capacity! 10/10 on everything we are.',\n",
       " 'Good food, good service, just needs more bison sauce on the wild rice. Fry bread is super comfort food. Got half strawberry jam and nutella. Tacos were tasty too. They should open another location with a more expansive menu and execute similar to Tocabe.',\n",
       " 'They usually sell tacos in different spots over Seattle. It&apos;s inconvenient for me to go around but luckily, they have fixed located right Burke museum in UW campus !!! Their tacos is superior. No errors in their tacos . Cooked to perfection!!',\n",
       " 'Ordered for a company&apos;s party and it was delicious! We got savory and sweet version. We got cinnamon sugar, honey, and berries jam. \\nSavory we got chicken, beef, and vegetarian (beans and corn).\\nThe pickled onions were quite good as well. \\nWould recommend as a big party tray event.',\n",
       " 'I&apos;ve been a fan of Off the Rez and their delicious frybread tacos for years now. I really don&apos;t like the chicken one at all, and the beef one is okay, but the pulled pork taco is where it&apos;s at. I don&apos;t usually like barbecue sauce, but their combination of sauce and toppings is sublime.\\n\\nI always felt like there was too high of a filling to bread ratio (what a problem to have, right?), but the last time I was there, they actually fixed it. It seemed like the piece of frybread was a lot bigger, and now it&apos;s absolutely perfect.\\n\\nIf you haven&apos;t tried their tacos yet, you need to - just make sure you get the pork.']"
      ]
     },
     "execution_count": 30,
     "metadata": {},
     "output_type": "execute_result"
    }
   ],
   "source": [
    "test_reviews"
   ]
  },
  {
   "cell_type": "code",
   "execution_count": 31,
   "metadata": {},
   "outputs": [
    {
     "data": {
      "text/plain": [
       "20"
      ]
     },
     "execution_count": 31,
     "metadata": {},
     "output_type": "execute_result"
    }
   ],
   "source": [
    "len(list(set(test_reviews)))"
   ]
  },
  {
   "cell_type": "code",
   "execution_count": 32,
   "metadata": {},
   "outputs": [
    {
     "data": {
      "text/plain": [
       "0      https://www.yelp.com/biz/guanacos-tacos-pupuse...\n",
       "1      https://www.yelp.com/biz/off-the-rez-seattle?a...\n",
       "2      https://www.yelp.com/biz/el-camion-seattle-16?...\n",
       "3      https://www.yelp.com/biz/tnt-taqueria-seattle?...\n",
       "4      https://www.yelp.com/biz/agua-verde-cafe-seatt...\n",
       "                             ...                        \n",
       "151    https://www.yelp.com/biz/brouwers-cafe-seattle...\n",
       "152    https://www.yelp.com/biz/the-westy-roosevelt-s...\n",
       "153    https://www.yelp.com/biz/revel-seattle?adjust_...\n",
       "154    https://www.yelp.com/biz/ivars-salmon-house-se...\n",
       "155    https://www.yelp.com/biz/royal-grinders-seattl...\n",
       "Name: url, Length: 156, dtype: object"
      ]
     },
     "execution_count": 32,
     "metadata": {},
     "output_type": "execute_result"
    }
   ],
   "source": [
    "taco_restaurants_df['url']"
   ]
  },
  {
   "cell_type": "code",
   "execution_count": null,
   "metadata": {},
   "outputs": [],
   "source": [
    "test_url = taco_restaurants_df.loc[155]['url']\n",
    "test_url\n",
    "test_reviews = extract_reviews(test_url, 629)"
   ]
  },
  {
   "cell_type": "code",
   "execution_count": null,
   "metadata": {},
   "outputs": [],
   "source": [
    "len(test_reviews)\n",
    "len(list(set(test_reviews)))"
   ]
  },
  {
   "cell_type": "code",
   "execution_count": null,
   "metadata": {},
   "outputs": [],
   "source": []
  }
 ],
 "metadata": {
  "kernelspec": {
   "display_name": "Python 3",
   "language": "python",
   "name": "python3"
  },
  "language_info": {
   "codemirror_mode": {
    "name": "ipython",
    "version": 3
   },
   "file_extension": ".py",
   "mimetype": "text/x-python",
   "name": "python",
   "nbconvert_exporter": "python",
   "pygments_lexer": "ipython3",
   "version": "3.8.5"
  }
 },
 "nbformat": 4,
 "nbformat_minor": 4
}
