{
 "cells": [
  {
   "cell_type": "code",
   "execution_count": 1,
   "metadata": {},
   "outputs": [],
   "source": [
    "# setup library imports\n",
    "import io, time, json\n",
    "import requests\n",
    "import pandas as pd\n",
    "import numpy as np\n",
    "\n",
    "from pathlib import Path\n",
    "from bs4 import BeautifulSoup"
   ]
  },
  {
   "cell_type": "code",
   "execution_count": 2,
   "metadata": {},
   "outputs": [],
   "source": [
    "#Read the Yelp API key from file\n",
    "def read_api_key(filepath=\"api_key.txt\"):\n",
    "    return Path(filepath).read_text().strip()"
   ]
  },
  {
   "cell_type": "code",
   "execution_count": 3,
   "metadata": {},
   "outputs": [
    {
     "data": {
      "text/plain": [
       "'Y0vpAcCzpLY3l5VSChBzAcRpy-JrWmmaOenfUf-AGrC4lKtc79YDH503ZZSURFVGsAx_I1-Xo0T6YykBPmaOalvnGubVhpIH_K0kfIcWEh0FLftyNyUQ75MXaW0wYHYx'"
      ]
     },
     "execution_count": 3,
     "metadata": {},
     "output_type": "execute_result"
    }
   ],
   "source": [
    "api_key = read_api_key()\n",
    "api_key"
   ]
  },
  {
   "cell_type": "code",
   "execution_count": 4,
   "metadata": {},
   "outputs": [],
   "source": [
    "#return the raw HTML for the specified URL\n",
    "def retrieve_html(url):\n",
    "    r = requests.get(url, auth=('user', 'pass'))   \n",
    "    return (r.status_code, r.text)"
   ]
  },
  {
   "cell_type": "code",
   "execution_count": 5,
   "metadata": {},
   "outputs": [],
   "source": [
    "#Make an authenticated request to the Yelp API.\n",
    "def yelp_search(api_key, term, location):\n",
    "    \n",
    "    search_url = \"https://api.yelp.com/v3/businesses/search\"\n",
    "    \n",
    "    params = {\"location\": location, \"term\": term, \"categories\" : \"restaurants\"}\n",
    "    \n",
    "    headers = {\n",
    "        'Authorization': 'Bearer %s' % api_key,\n",
    "    }\n",
    "    \n",
    "    response = requests.get(search_url, params = params, headers = headers)\n",
    "    \n",
    "    data = json.loads(response.text)\n",
    "    \n",
    "    return (data[\"total\"], data[\"businesses\"])\n"
   ]
  },
  {
   "cell_type": "code",
   "execution_count": 6,
   "metadata": {},
   "outputs": [
    {
     "data": {
      "text/plain": [
       "156"
      ]
     },
     "execution_count": 6,
     "metadata": {},
     "output_type": "execute_result"
    }
   ],
   "source": [
    "(total, businesses) = yelp_search(api_key, \"taco\", \"University District, Seattle\")\n",
    "total"
   ]
  },
  {
   "cell_type": "code",
   "execution_count": 7,
   "metadata": {},
   "outputs": [],
   "source": [
    "#Retrieve ALL the restaurants on Yelp for a given query.\n",
    "#returns the api response as a list of dictionaries\n",
    "#max number of responses is 1000\n",
    "def all_restaurants(api_key, term, location):\n",
    "    search_url = \"https://api.yelp.com/v3/businesses/search\"\n",
    "    \n",
    "    params1 = {\"location\": location, \"term\": term, \"categories\" : \"restaurants\"}\n",
    "    \n",
    "    headers = {\n",
    "        'Authorization': 'Bearer %s' % api_key,\n",
    "    }\n",
    "    \n",
    "    response1 = requests.get(search_url, params = params1, headers = headers)   \n",
    "    data1 = json.loads(response1.text)\n",
    "    \n",
    "    #Note that only 1000 records can be obtained at one time\n",
    "    records_num = data1['total']    \n",
    "    requests_num = records_num//20 + 1\n",
    "    offset = 0\n",
    "    result = []\n",
    "    \n",
    "    for i in range(requests_num):\n",
    "        #20 restaurants each request\n",
    "        curr_offset = offset + i*20\n",
    "        params = {\"location\": location, \"term\": term, \"offset\": curr_offset, \"categories\" : \"restaurants\"}\n",
    "        response = requests.get(search_url, params = params, headers = headers)\n",
    "        data = json.loads(response.text)\n",
    "        result += data[\"businesses\"]\n",
    "    #pause slightly between requests\n",
    "        time.sleep(.300)\n",
    "        \n",
    "    return result"
   ]
  },
  {
   "cell_type": "code",
   "execution_count": 8,
   "metadata": {},
   "outputs": [
    {
     "data": {
      "text/plain": [
       "list"
      ]
     },
     "execution_count": 8,
     "metadata": {},
     "output_type": "execute_result"
    }
   ],
   "source": [
    "tacos = all_restaurants(api_key, \"taco\", \"University District, Seattle\")\n",
    "type(tacos)"
   ]
  },
  {
   "cell_type": "code",
   "execution_count": 9,
   "metadata": {},
   "outputs": [
    {
     "name": "stdout",
     "output_type": "stream",
     "text": [
      "156\n"
     ]
    },
    {
     "data": {
      "text/plain": [
       "{'id': 'nwrKWcWG1_g8nyUaaUwqlA',\n",
       " 'alias': 'tacos-chukis-seattle-5',\n",
       " 'name': 'Tacos Chukis',\n",
       " 'image_url': 'https://s3-media4.fl.yelpcdn.com/bphoto/huHHXRboy1-VPKK376t8zw/o.jpg',\n",
       " 'is_closed': False,\n",
       " 'url': 'https://www.yelp.com/biz/tacos-chukis-seattle-5?adjust_creative=Yd84IPqpgzteXDQ2QE83uA&utm_campaign=yelp_api_v3&utm_medium=api_v3_business_search&utm_source=Yd84IPqpgzteXDQ2QE83uA',\n",
       " 'review_count': 410,\n",
       " 'categories': [{'alias': 'tacos', 'title': 'Tacos'},\n",
       "  {'alias': 'sandwiches', 'title': 'Sandwiches'}],\n",
       " 'rating': 4.5,\n",
       " 'coordinates': {'latitude': 47.6270336126469, 'longitude': -122.342103158844},\n",
       " 'transactions': ['delivery'],\n",
       " 'price': '$',\n",
       " 'location': {'address1': '832 Dexter Ave N',\n",
       "  'address2': '',\n",
       "  'address3': None,\n",
       "  'city': 'Seattle',\n",
       "  'zip_code': '98109',\n",
       "  'country': 'US',\n",
       "  'state': 'WA',\n",
       "  'display_address': ['832 Dexter Ave N', 'Seattle, WA 98109']},\n",
       " 'phone': '+12065189025',\n",
       " 'display_phone': '(206) 518-9025',\n",
       " 'distance': 4693.45484203039}"
      ]
     },
     "execution_count": 9,
     "metadata": {},
     "output_type": "execute_result"
    }
   ],
   "source": [
    "print(len(tacos))\n",
    "tacos[6]"
   ]
  },
  {
   "cell_type": "code",
   "execution_count": 10,
   "metadata": {},
   "outputs": [],
   "source": [
    "#parse the api response into a pandas dataframe\n",
    "#api response is all the restaurants matched\n",
    "def parse_api_response(api_response):\n",
    "    \n",
    "    df = pd.DataFrame(columns=('name','category','latitude','longitude','price','rating','url', 'review_count'))\n",
    "    \n",
    "    for i in range(len(api_response)): \n",
    "        \n",
    "        restaurant = api_response[i]\n",
    "        name = restaurant['name']\n",
    "        category_list = []\n",
    "        for category in restaurant['categories']:\n",
    "            category_list.append(category['alias'])\n",
    "        seperator = ','\n",
    "        category_string = seperator.join(category_list)\n",
    "        \n",
    "        coordinates = restaurant['coordinates']\n",
    "        latitude = coordinates['latitude']\n",
    "        longitude = coordinates['longitude']\n",
    "        \n",
    "        if 'price' in restaurant:\n",
    "            price = restaurant['price']\n",
    "            price_indicator = price.count('$')\n",
    "        else:\n",
    "            price_indicator = 'NA'\n",
    "        \n",
    "        rating = restaurant['rating']\n",
    "        url = restaurant['url']\n",
    "        review_count = restaurant['review_count']\n",
    "            \n",
    "        df.loc[i] = [name, category_string, latitude, longitude, price_indicator, rating, url, review_count]\n",
    "    \n",
    "    return df"
   ]
  },
  {
   "cell_type": "code",
   "execution_count": 11,
   "metadata": {},
   "outputs": [
    {
     "data": {
      "text/html": [
       "<div>\n",
       "<style scoped>\n",
       "    .dataframe tbody tr th:only-of-type {\n",
       "        vertical-align: middle;\n",
       "    }\n",
       "\n",
       "    .dataframe tbody tr th {\n",
       "        vertical-align: top;\n",
       "    }\n",
       "\n",
       "    .dataframe thead th {\n",
       "        text-align: right;\n",
       "    }\n",
       "</style>\n",
       "<table border=\"1\" class=\"dataframe\">\n",
       "  <thead>\n",
       "    <tr style=\"text-align: right;\">\n",
       "      <th></th>\n",
       "      <th>name</th>\n",
       "      <th>category</th>\n",
       "      <th>latitude</th>\n",
       "      <th>longitude</th>\n",
       "      <th>price</th>\n",
       "      <th>rating</th>\n",
       "      <th>url</th>\n",
       "      <th>review_count</th>\n",
       "    </tr>\n",
       "  </thead>\n",
       "  <tbody>\n",
       "    <tr>\n",
       "      <th>0</th>\n",
       "      <td>El Camion</td>\n",
       "      <td>foodtrucks,mexican</td>\n",
       "      <td>47.661607</td>\n",
       "      <td>-122.287411</td>\n",
       "      <td>1</td>\n",
       "      <td>4.0</td>\n",
       "      <td>https://www.yelp.com/biz/el-camion-seattle-16?...</td>\n",
       "      <td>83</td>\n",
       "    </tr>\n",
       "    <tr>\n",
       "      <th>1</th>\n",
       "      <td>Off the Rez</td>\n",
       "      <td>foodtrucks,burgers,tacos</td>\n",
       "      <td>47.659920</td>\n",
       "      <td>-122.311825</td>\n",
       "      <td>1</td>\n",
       "      <td>4.0</td>\n",
       "      <td>https://www.yelp.com/biz/off-the-rez-seattle?a...</td>\n",
       "      <td>195</td>\n",
       "    </tr>\n",
       "    <tr>\n",
       "      <th>2</th>\n",
       "      <td>Guanaco's Tacos Pupuseria</td>\n",
       "      <td>salvadoran,tacos</td>\n",
       "      <td>47.657141</td>\n",
       "      <td>-122.314029</td>\n",
       "      <td>2</td>\n",
       "      <td>4.0</td>\n",
       "      <td>https://www.yelp.com/biz/guanacos-tacos-pupuse...</td>\n",
       "      <td>338</td>\n",
       "    </tr>\n",
       "    <tr>\n",
       "      <th>3</th>\n",
       "      <td>Rancho Bravo Tacos</td>\n",
       "      <td>mexican,foodtrucks</td>\n",
       "      <td>47.661190</td>\n",
       "      <td>-122.326510</td>\n",
       "      <td>1</td>\n",
       "      <td>4.0</td>\n",
       "      <td>https://www.yelp.com/biz/rancho-bravo-tacos-se...</td>\n",
       "      <td>465</td>\n",
       "    </tr>\n",
       "    <tr>\n",
       "      <th>4</th>\n",
       "      <td>TNT Taqueria</td>\n",
       "      <td>mexican</td>\n",
       "      <td>47.661509</td>\n",
       "      <td>-122.332940</td>\n",
       "      <td>1</td>\n",
       "      <td>4.0</td>\n",
       "      <td>https://www.yelp.com/biz/tnt-taqueria-seattle?...</td>\n",
       "      <td>446</td>\n",
       "    </tr>\n",
       "    <tr>\n",
       "      <th>...</th>\n",
       "      <td>...</td>\n",
       "      <td>...</td>\n",
       "      <td>...</td>\n",
       "      <td>...</td>\n",
       "      <td>...</td>\n",
       "      <td>...</td>\n",
       "      <td>...</td>\n",
       "      <td>...</td>\n",
       "    </tr>\n",
       "    <tr>\n",
       "      <th>151</th>\n",
       "      <td>Portage Bay Cafe - Roosevelt</td>\n",
       "      <td>newamerican,breakfast_brunch,cafes</td>\n",
       "      <td>47.657570</td>\n",
       "      <td>-122.317600</td>\n",
       "      <td>2</td>\n",
       "      <td>4.0</td>\n",
       "      <td>https://www.yelp.com/biz/portage-bay-cafe-roos...</td>\n",
       "      <td>2426</td>\n",
       "    </tr>\n",
       "    <tr>\n",
       "      <th>152</th>\n",
       "      <td>The Lodge Sports Grille</td>\n",
       "      <td>sportsbars,tradamerican</td>\n",
       "      <td>47.690728</td>\n",
       "      <td>-122.355599</td>\n",
       "      <td>2</td>\n",
       "      <td>2.5</td>\n",
       "      <td>https://www.yelp.com/biz/the-lodge-sports-gril...</td>\n",
       "      <td>198</td>\n",
       "    </tr>\n",
       "    <tr>\n",
       "      <th>153</th>\n",
       "      <td>Ivar's Salmon House</td>\n",
       "      <td>seafood,lounges,tradamerican</td>\n",
       "      <td>47.653620</td>\n",
       "      <td>-122.324040</td>\n",
       "      <td>2</td>\n",
       "      <td>3.5</td>\n",
       "      <td>https://www.yelp.com/biz/ivars-salmon-house-se...</td>\n",
       "      <td>1228</td>\n",
       "    </tr>\n",
       "    <tr>\n",
       "      <th>154</th>\n",
       "      <td>Revel</td>\n",
       "      <td>korean,newamerican,cocktailbars</td>\n",
       "      <td>47.652033</td>\n",
       "      <td>-122.354123</td>\n",
       "      <td>2</td>\n",
       "      <td>3.5</td>\n",
       "      <td>https://www.yelp.com/biz/revel-seattle?adjust_...</td>\n",
       "      <td>1385</td>\n",
       "    </tr>\n",
       "    <tr>\n",
       "      <th>155</th>\n",
       "      <td>Royal Grinders</td>\n",
       "      <td>sandwiches,vegetarian,vegan</td>\n",
       "      <td>47.651337</td>\n",
       "      <td>-122.350759</td>\n",
       "      <td>2</td>\n",
       "      <td>4.5</td>\n",
       "      <td>https://www.yelp.com/biz/royal-grinders-seattl...</td>\n",
       "      <td>628</td>\n",
       "    </tr>\n",
       "  </tbody>\n",
       "</table>\n",
       "<p>156 rows × 8 columns</p>\n",
       "</div>"
      ],
      "text/plain": [
       "                             name                            category  \\\n",
       "0                       El Camion                  foodtrucks,mexican   \n",
       "1                     Off the Rez            foodtrucks,burgers,tacos   \n",
       "2       Guanaco's Tacos Pupuseria                    salvadoran,tacos   \n",
       "3              Rancho Bravo Tacos                  mexican,foodtrucks   \n",
       "4                    TNT Taqueria                             mexican   \n",
       "..                            ...                                 ...   \n",
       "151  Portage Bay Cafe - Roosevelt  newamerican,breakfast_brunch,cafes   \n",
       "152       The Lodge Sports Grille             sportsbars,tradamerican   \n",
       "153           Ivar's Salmon House        seafood,lounges,tradamerican   \n",
       "154                         Revel     korean,newamerican,cocktailbars   \n",
       "155                Royal Grinders         sandwiches,vegetarian,vegan   \n",
       "\n",
       "      latitude   longitude price  rating  \\\n",
       "0    47.661607 -122.287411     1     4.0   \n",
       "1    47.659920 -122.311825     1     4.0   \n",
       "2    47.657141 -122.314029     2     4.0   \n",
       "3    47.661190 -122.326510     1     4.0   \n",
       "4    47.661509 -122.332940     1     4.0   \n",
       "..         ...         ...   ...     ...   \n",
       "151  47.657570 -122.317600     2     4.0   \n",
       "152  47.690728 -122.355599     2     2.5   \n",
       "153  47.653620 -122.324040     2     3.5   \n",
       "154  47.652033 -122.354123     2     3.5   \n",
       "155  47.651337 -122.350759     2     4.5   \n",
       "\n",
       "                                                   url review_count  \n",
       "0    https://www.yelp.com/biz/el-camion-seattle-16?...           83  \n",
       "1    https://www.yelp.com/biz/off-the-rez-seattle?a...          195  \n",
       "2    https://www.yelp.com/biz/guanacos-tacos-pupuse...          338  \n",
       "3    https://www.yelp.com/biz/rancho-bravo-tacos-se...          465  \n",
       "4    https://www.yelp.com/biz/tnt-taqueria-seattle?...          446  \n",
       "..                                                 ...          ...  \n",
       "151  https://www.yelp.com/biz/portage-bay-cafe-roos...         2426  \n",
       "152  https://www.yelp.com/biz/the-lodge-sports-gril...          198  \n",
       "153  https://www.yelp.com/biz/ivars-salmon-house-se...         1228  \n",
       "154  https://www.yelp.com/biz/revel-seattle?adjust_...         1385  \n",
       "155  https://www.yelp.com/biz/royal-grinders-seattl...          628  \n",
       "\n",
       "[156 rows x 8 columns]"
      ]
     },
     "execution_count": 11,
     "metadata": {},
     "output_type": "execute_result"
    }
   ],
   "source": [
    "taco_restaurants_df = parse_api_response(tacos)\n",
    "taco_restaurants_df"
   ]
  },
  {
   "cell_type": "code",
   "execution_count": 12,
   "metadata": {},
   "outputs": [],
   "source": [
    "#Parse the reviews on a single page of a restaurant.\n",
    "def parse_page(html):\n",
    "    soup = BeautifulSoup(html, 'html.parser')\n",
    "    #print(soup.prettify())\n",
    "    review_soups = soup.find_all(\"script\",type=\"application/ld+json\")\n",
    "    \n",
    "    description_list = []\n",
    "    for soup in review_soups:\n",
    "        #bs4 uses .string, not .text\n",
    "        text = soup.string\n",
    "        #decode the json into python dict\n",
    "        js_dict = json.loads(text)\n",
    "        \n",
    "        if 'review' in js_dict:\n",
    "            review_list = js_dict['review']\n",
    "        \n",
    "            for i in range(len(review_list)):\n",
    "                review_dict = review_list[i]\n",
    "                description_list.append(review_dict['description'])\n",
    "\n",
    "    return description_list"
   ]
  },
  {
   "cell_type": "code",
   "execution_count": 13,
   "metadata": {},
   "outputs": [],
   "source": [
    "#retrieve ALL of the reviews for a single restaurant on Yelp.\n",
    "#returns: reviews (list): list of dictionaries containing extracted review information\n",
    "def extract_reviews(url):\n",
    "    \n",
    "    api_url = url + '%3Fstart%3D40'\n",
    "    \n",
    "    html_obj = retrieve_html(url)[1]\n",
    "    \n",
    "    review_list = parse_page(html_obj)\n",
    "    \n",
    "    result = review_list\n",
    "    \n",
    "    return result\n"
   ]
  },
  {
   "cell_type": "code",
   "execution_count": 14,
   "metadata": {},
   "outputs": [
    {
     "data": {
      "text/plain": [
       "'https://www.yelp.com/biz/off-the-rez-seattle?adjust_creative=Yd84IPqpgzteXDQ2QE83uA&utm_campaign=yelp_api_v3&utm_medium=api_v3_business_search&utm_source=Yd84IPqpgzteXDQ2QE83uA'"
      ]
     },
     "execution_count": 14,
     "metadata": {},
     "output_type": "execute_result"
    }
   ],
   "source": [
    "test_url = taco_restaurants_df.loc[1]['url']\n",
    "test_url"
   ]
  },
  {
   "cell_type": "code",
   "execution_count": 15,
   "metadata": {},
   "outputs": [
    {
     "name": "stdout",
     "output_type": "stream",
     "text": [
      "20\n"
     ]
    },
    {
     "data": {
      "text/plain": [
       "['Exceptional service! It was fun watching him gently knead the dough and then dip it in the fryer. Husband had a bison taco and I had pulled pork and both were outstanding! He had the fry bread with their house made lemon curd and it was divine. 10 stars!',\n",
       " 'Off the Rez is amazing!! 10/10 would always get the bison taco or something sweet!! The coffee is amazing also!',\n",
       " 'This is interesting combo: Indian flatbread with contemporary Taco.  I ordered bison and chili choices and both are pretty good.  Indian Flatbread was fluffy, the meat and the topping mixed well, together was a great intriguing snack.  It was a small taco so you will need 2 for lunch/dinner. \\nAlso the cafe is next to the museum so You can tell the entrance staff withiutbbiuyjng the ticket and park the lot in front of the museum and cafe.  Pay by mobile or the machine for parking fee (the day we visited, the machine was broken, we paid and extended hours by mobile app).  \\nThe staffs were nice and the cafe was clean and neat.  We will be back!',\n",
       " 'Off The Rez was off the hook.\\n\\nCame here because it was parked at Optimism Brewing where they do not sell food, thank goodness Off The Rez saved me from starvation at a birthday gathering. Not sure exactly how to describe this truck as it&apos;s not a taco truck, but they do have tacos. They call them, &quot;Indian tacos&quot; because it&apos;s starved on an air-fried bread which to my surprise, it was delicious. 2 tacos was filling! The guy that served me was also really nice. \\n\\nNow that I have time to sit down and do some research, this truck is known for their air-fried bread that they serve in more variety besides tacos. I hope to see them again next time I visit Optimism Brewing, but I guess they rotate out the food trucks on a daily so make sure you follow their schedule.\\n\\nTell me about your experience if you&apos;ve been here or is going to after reading this review:)',\n",
       " 'We were first introduced to these guys at the food and wine experience in 2019. Living over in Yakima, the name was instantly intriguing, and after talking to the guys, we liked them even more.\\n\\nThe guys running the place is super cool bunch that are taking a traditional native dish and giving it a little modern flair. Most of the fry bread we have on the side of the mountains is of the sweet variety - The first time I had one, it reminded me of a thick, smaller elephant ear with a lot of good stuff on top. Here they sell a couple different versions. The sweet fry bread is more what we have been used to and they serve it with any of a number of different topping options. We were pretty impressive what they were offering! The guava curd was ultimately the choice and it was legit! If the English Tea-aristocracy gets wind of it, they may trade out their lemon curd! Honey, a bunch of different berries and cinnamon/sugar were the other options and I imagine all are legit!\\n\\nThe savory options are termed Indian Tacos. These are probably the best we&apos;ve ever tasted! We had a braised bison one and it was pretty amazing. The opportunity to consume a less common meat on some next level fried carbs was exactly what we were looking for.\\n\\nThe place has a decent amount of seating and you can go into the museum front room and eat as well. They&apos;ve got decent beverage options including- beer - wine - pop - coffee &amp; juice.\\n\\nWhile it&apos;s not the most convenient location, the food is exceptionally good and the guys running the place are doing a solid job. If you&apos;re in the area, it&apos;s definitely worth your time to check it out.',\n",
       " 'I love this place and love the consistency of quality each time! Both food truck and museum locations have been satisfactory. It is packaged well and the customer service is great!',\n",
       " 'This review is for the brick and mortar location, not the truck. Off the Rez is so delicious and their fry bread is made fresh, with high-quality ingredients, at extremely reasonable prices.  I have nothing bad to say about anything we ate at this restaurant and wish it was open later or had another location so we could here more often!\\n\\nThe chili taco is the play here - I went with the classic beef but have heard good things about the others ones as well.  There was a generous amount of chili on the bread and it was flavorful and spiced well but wasn&apos;t spicy hot.  We also got the seasonal cranberry fry bread which was so good our group of 6 ended up getting 3 to share (we initially all naively thought we could just share bites of 1 - wrong).  \\n\\nThe sides here are good as well if you&apos;re trying to get some veggies in alongside the deep-fried goodness - the Kale salad was fresh and the dressing was pretty tasty and the coleslaw was solid, though not as memorable as the other things we ate.\\n\\nAlso be sure to check out the various beverage options they&apos;ve got up by the register - we were happy to see a variety of both beers and non-alcoholic beverages.',\n",
       " 'The only thing better that my top 5 food truck experiences is to have a sit down option too. Today we checked out the new location inside of the Burke Museum after attending a great play at the UW School of Drama (plug for them too!). Even though they are open until 5 on Sundays (same hours as the museum, although they have their own separate entrance) they seemed eager to close early when we arrived as the only customers at 4:35. No matter, they were friendly, took our order and in no time we were enjoying two savory fry bread tacos along with one sweet one to share. The chili verde chicken and pulled pork selections were both great, as was the honey soaked dessert. Prices were very reasonable for what amounts to a museum cafe. I can&apos;t wait to come back and try other items.',\n",
       " 'One of my favorite trucks in Seattle:\\n\\nQuality: the veggie tacos are good. The fry bread is fresh and the chili is well seasoned. I would like more veggies on the veggie tacos, but they are delicious nevertheless.\\n\\nQuantity: the fry bread is thick and the put enough chilli on it to make it filling. I usually buy 3, but 2 is still plenty.\\n\\nService: classic food truck service, nothing to rave or complain about\\n\\nPrice: $5 per taco is steep, so I get it once per month only. They are pretty pricey, so be prepared to splurge.',\n",
       " 'I&apos;m glad Off The Rez specializes in fry bread because damn, it was good and there really aren&apos;t many places that do it.  But the savory dishes seemed to be amiss. \\n\\nMy friend and I spotted this food truck, as it was the truck that was parked outside of Optimism Brewery when we visited.  You always need bites with your beer; and when she found out that Off the Rez was here, she was excited to try their fry bread.  I had never eaten fry bread before, but was down to try something new. \\n\\nMy friend ordered the Powwow Burger, a bacon cheeseburger with fry bread for buns, while I had two Indian tacos, one with pork and the other with chicken.  Menu was pretty standard with taco and burger combinations, with sides like kale salad and fries. \\n\\nMy Indian tacos were A-OK.  Don&apos;t get me wrong - the fry bread was awesome!  It was soft and fluffy and had crispy edges.  I would&apos;ve happily just eaten it by itself.  But getting it as a taco, to sandwich the meat and toppings seemed to distract from the real winner of Off The Rez, the fry bread.  Both of my meats, chicken and pork were bland.  You&apos;d think that with the toppings it wouldn&apos;t be so, but they were.  My chicken taco included shredded cheese and slaw in a crema sauce while the pork one had a BBQ sauce with slaw and was supposed to have jalapenos, but sadly, they must&apos;ve forgot to put it on.  The sauces did help to add some flavor to the tacos, but meat just never came through.  My friend felt the same way about her Powwow Burger, saying that the beef patty tasted like it wasn&apos;t seasoned.  \\n\\nI advise getting a sweet fry bread item instead of a savory dish, in hopes that it fares much better.  The fry bread was really good, so the simpler the toppings, the better.',\n",
       " 'Food was great here and service was also nice! Their Fry-bread is crispy on the outside and soft inside. Their tacos were flavorful and i highly recommend the bison tacos. My girlfriend had the rice bowl and that was also delicious. I would definitely come back here again.',\n",
       " 'YUM! I got the carnitas, and that is some of the best meat I&apos;ve had in a long time. The slaw on top was fresh, crunchy, and matched the meats well. The chicken that my partner got was less than spectacular... but still good. I think if I started with the chicken, it would have been a lot better. Unfortunately for me, I started with the carnitas, and the flavor just blows everything else out of the water. My partner also got a lemon curd dessert fry bread and he enjoyed it. \\n\\nI want to try their burgers next! Thanks for making delicious food! It&apos;s awesome to sneak a little taste of your delicious world!',\n",
       " 'The chili is delicious. It&apos;s a bit more tomato-y than tex mex chili and has such a strong flavor profile, very well seasoned. Their fries are golden. My family adored their sweet fry bread. They have a range  from burgers to kale and quinoa salads. They also offer &quot;Indian tacos&quot; made with frybread. Check &apos;em out',\n",
       " 'The food in this cafe is remarkably delicious compared to most place you find inside of art instillations.  Usually food inside of museums etc. is overpriced and processed. I ordered the beef chili Indian taco. It was hand-crafted and well-conceived. Plus the orders came up quickly!  I rarely get over to the he UW. Campus, but now I have another reason to go.',\n",
       " 'I had the Spicy Chicken Frybread Grilled Cheese at the Grilled Cheese Grand Prix. It was very good! Such a good combination of flavors.',\n",
       " 'This place absolutely blew me . My only disappointment was not being able to eat even more beyond my stomach capacity! 10/10 on everything we are.',\n",
       " 'Good food, good service, just needs more bison sauce on the wild rice. Fry bread is super comfort food. Got half strawberry jam and nutella. Tacos were tasty too. They should open another location with a more expansive menu and execute similar to Tocabe.',\n",
       " 'They usually sell tacos in different spots over Seattle. It&apos;s inconvenient for me to go around but luckily, they have fixed located right Burke museum in UW campus !!! Their tacos is superior. No errors in their tacos . Cooked to perfection!!',\n",
       " 'Ordered for a company&apos;s party and it was delicious! We got savory and sweet version. We got cinnamon sugar, honey, and berries jam. \\nSavory we got chicken, beef, and vegetarian (beans and corn).\\nThe pickled onions were quite good as well. \\nWould recommend as a big party tray event.',\n",
       " 'I&apos;ve been a fan of Off the Rez and their delicious frybread tacos for years now. I really don&apos;t like the chicken one at all, and the beef one is okay, but the pulled pork taco is where it&apos;s at. I don&apos;t usually like barbecue sauce, but their combination of sauce and toppings is sublime.\\n\\nI always felt like there was too high of a filling to bread ratio (what a problem to have, right?), but the last time I was there, they actually fixed it. It seemed like the piece of frybread was a lot bigger, and now it&apos;s absolutely perfect.\\n\\nIf you haven&apos;t tried their tacos yet, you need to - just make sure you get the pork.']"
      ]
     },
     "execution_count": 15,
     "metadata": {},
     "output_type": "execute_result"
    }
   ],
   "source": [
    "test_reviews = extract_reviews(test_url)\n",
    "\n",
    "print(len(test_reviews))\n",
    "\n",
    "test_reviews"
   ]
  },
  {
   "cell_type": "code",
   "execution_count": 16,
   "metadata": {},
   "outputs": [],
   "source": [
    "url_list = taco_restaurants_df['url'].tolist()"
   ]
  },
  {
   "cell_type": "code",
   "execution_count": 17,
   "metadata": {},
   "outputs": [
    {
     "name": "stdout",
     "output_type": "stream",
     "text": [
      "0\n",
      "1\n",
      "2\n",
      "3\n",
      "4\n",
      "5\n",
      "6\n"
     ]
    },
    {
     "ename": "KeyboardInterrupt",
     "evalue": "",
     "output_type": "error",
     "traceback": [
      "\u001b[0;31m---------------------------------------------------------------------------\u001b[0m",
      "\u001b[0;31mKeyboardInterrupt\u001b[0m                         Traceback (most recent call last)",
      "\u001b[0;32m<ipython-input-17-6448a6264d01>\u001b[0m in \u001b[0;36m<module>\u001b[0;34m\u001b[0m\n\u001b[1;32m      3\u001b[0m     \u001b[0murl\u001b[0m \u001b[0;34m=\u001b[0m \u001b[0murl_list\u001b[0m\u001b[0;34m[\u001b[0m\u001b[0mi\u001b[0m\u001b[0;34m]\u001b[0m\u001b[0;34m\u001b[0m\u001b[0;34m\u001b[0m\u001b[0m\n\u001b[1;32m      4\u001b[0m     \u001b[0mprint\u001b[0m\u001b[0;34m(\u001b[0m\u001b[0mi\u001b[0m\u001b[0;34m)\u001b[0m\u001b[0;34m\u001b[0m\u001b[0;34m\u001b[0m\u001b[0m\n\u001b[0;32m----> 5\u001b[0;31m     \u001b[0mresult\u001b[0m \u001b[0;34m+=\u001b[0m \u001b[0mextract_reviews\u001b[0m\u001b[0;34m(\u001b[0m\u001b[0murl\u001b[0m\u001b[0;34m)\u001b[0m\u001b[0;34m\u001b[0m\u001b[0;34m\u001b[0m\u001b[0m\n\u001b[0m\u001b[1;32m      6\u001b[0m \u001b[0;34m\u001b[0m\u001b[0m\n",
      "\u001b[0;32m<ipython-input-13-35f661520d03>\u001b[0m in \u001b[0;36mextract_reviews\u001b[0;34m(url)\u001b[0m\n\u001b[1;32m      5\u001b[0m     \u001b[0mapi_url\u001b[0m \u001b[0;34m=\u001b[0m \u001b[0murl\u001b[0m \u001b[0;34m+\u001b[0m \u001b[0;34m'%3Fstart%3D40'\u001b[0m\u001b[0;34m\u001b[0m\u001b[0;34m\u001b[0m\u001b[0m\n\u001b[1;32m      6\u001b[0m \u001b[0;34m\u001b[0m\u001b[0m\n\u001b[0;32m----> 7\u001b[0;31m     \u001b[0mhtml_obj\u001b[0m \u001b[0;34m=\u001b[0m \u001b[0mretrieve_html\u001b[0m\u001b[0;34m(\u001b[0m\u001b[0murl\u001b[0m\u001b[0;34m)\u001b[0m\u001b[0;34m[\u001b[0m\u001b[0;36m1\u001b[0m\u001b[0;34m]\u001b[0m\u001b[0;34m\u001b[0m\u001b[0;34m\u001b[0m\u001b[0m\n\u001b[0m\u001b[1;32m      8\u001b[0m \u001b[0;34m\u001b[0m\u001b[0m\n\u001b[1;32m      9\u001b[0m     \u001b[0mreview_list\u001b[0m \u001b[0;34m=\u001b[0m \u001b[0mparse_page\u001b[0m\u001b[0;34m(\u001b[0m\u001b[0mhtml_obj\u001b[0m\u001b[0;34m)\u001b[0m\u001b[0;34m\u001b[0m\u001b[0;34m\u001b[0m\u001b[0m\n",
      "\u001b[0;32m<ipython-input-4-0cc6921849d4>\u001b[0m in \u001b[0;36mretrieve_html\u001b[0;34m(url)\u001b[0m\n\u001b[1;32m      1\u001b[0m \u001b[0;31m#return the raw HTML for the specified URL\u001b[0m\u001b[0;34m\u001b[0m\u001b[0;34m\u001b[0m\u001b[0;34m\u001b[0m\u001b[0m\n\u001b[1;32m      2\u001b[0m \u001b[0;32mdef\u001b[0m \u001b[0mretrieve_html\u001b[0m\u001b[0;34m(\u001b[0m\u001b[0murl\u001b[0m\u001b[0;34m)\u001b[0m\u001b[0;34m:\u001b[0m\u001b[0;34m\u001b[0m\u001b[0;34m\u001b[0m\u001b[0m\n\u001b[0;32m----> 3\u001b[0;31m     \u001b[0mr\u001b[0m \u001b[0;34m=\u001b[0m \u001b[0mrequests\u001b[0m\u001b[0;34m.\u001b[0m\u001b[0mget\u001b[0m\u001b[0;34m(\u001b[0m\u001b[0murl\u001b[0m\u001b[0;34m,\u001b[0m \u001b[0mauth\u001b[0m\u001b[0;34m=\u001b[0m\u001b[0;34m(\u001b[0m\u001b[0;34m'user'\u001b[0m\u001b[0;34m,\u001b[0m \u001b[0;34m'pass'\u001b[0m\u001b[0;34m)\u001b[0m\u001b[0;34m)\u001b[0m\u001b[0;34m\u001b[0m\u001b[0;34m\u001b[0m\u001b[0m\n\u001b[0m\u001b[1;32m      4\u001b[0m     \u001b[0;32mreturn\u001b[0m \u001b[0;34m(\u001b[0m\u001b[0mr\u001b[0m\u001b[0;34m.\u001b[0m\u001b[0mstatus_code\u001b[0m\u001b[0;34m,\u001b[0m \u001b[0mr\u001b[0m\u001b[0;34m.\u001b[0m\u001b[0mtext\u001b[0m\u001b[0;34m)\u001b[0m\u001b[0;34m\u001b[0m\u001b[0;34m\u001b[0m\u001b[0m\n",
      "\u001b[0;32m~/opt/anaconda3/lib/python3.8/site-packages/requests/api.py\u001b[0m in \u001b[0;36mget\u001b[0;34m(url, params, **kwargs)\u001b[0m\n\u001b[1;32m     74\u001b[0m \u001b[0;34m\u001b[0m\u001b[0m\n\u001b[1;32m     75\u001b[0m     \u001b[0mkwargs\u001b[0m\u001b[0;34m.\u001b[0m\u001b[0msetdefault\u001b[0m\u001b[0;34m(\u001b[0m\u001b[0;34m'allow_redirects'\u001b[0m\u001b[0;34m,\u001b[0m \u001b[0;32mTrue\u001b[0m\u001b[0;34m)\u001b[0m\u001b[0;34m\u001b[0m\u001b[0;34m\u001b[0m\u001b[0m\n\u001b[0;32m---> 76\u001b[0;31m     \u001b[0;32mreturn\u001b[0m \u001b[0mrequest\u001b[0m\u001b[0;34m(\u001b[0m\u001b[0;34m'get'\u001b[0m\u001b[0;34m,\u001b[0m \u001b[0murl\u001b[0m\u001b[0;34m,\u001b[0m \u001b[0mparams\u001b[0m\u001b[0;34m=\u001b[0m\u001b[0mparams\u001b[0m\u001b[0;34m,\u001b[0m \u001b[0;34m**\u001b[0m\u001b[0mkwargs\u001b[0m\u001b[0;34m)\u001b[0m\u001b[0;34m\u001b[0m\u001b[0;34m\u001b[0m\u001b[0m\n\u001b[0m\u001b[1;32m     77\u001b[0m \u001b[0;34m\u001b[0m\u001b[0m\n\u001b[1;32m     78\u001b[0m \u001b[0;34m\u001b[0m\u001b[0m\n",
      "\u001b[0;32m~/opt/anaconda3/lib/python3.8/site-packages/requests/api.py\u001b[0m in \u001b[0;36mrequest\u001b[0;34m(method, url, **kwargs)\u001b[0m\n\u001b[1;32m     59\u001b[0m     \u001b[0;31m# cases, and look like a memory leak in others.\u001b[0m\u001b[0;34m\u001b[0m\u001b[0;34m\u001b[0m\u001b[0;34m\u001b[0m\u001b[0m\n\u001b[1;32m     60\u001b[0m     \u001b[0;32mwith\u001b[0m \u001b[0msessions\u001b[0m\u001b[0;34m.\u001b[0m\u001b[0mSession\u001b[0m\u001b[0;34m(\u001b[0m\u001b[0;34m)\u001b[0m \u001b[0;32mas\u001b[0m \u001b[0msession\u001b[0m\u001b[0;34m:\u001b[0m\u001b[0;34m\u001b[0m\u001b[0;34m\u001b[0m\u001b[0m\n\u001b[0;32m---> 61\u001b[0;31m         \u001b[0;32mreturn\u001b[0m \u001b[0msession\u001b[0m\u001b[0;34m.\u001b[0m\u001b[0mrequest\u001b[0m\u001b[0;34m(\u001b[0m\u001b[0mmethod\u001b[0m\u001b[0;34m=\u001b[0m\u001b[0mmethod\u001b[0m\u001b[0;34m,\u001b[0m \u001b[0murl\u001b[0m\u001b[0;34m=\u001b[0m\u001b[0murl\u001b[0m\u001b[0;34m,\u001b[0m \u001b[0;34m**\u001b[0m\u001b[0mkwargs\u001b[0m\u001b[0;34m)\u001b[0m\u001b[0;34m\u001b[0m\u001b[0;34m\u001b[0m\u001b[0m\n\u001b[0m\u001b[1;32m     62\u001b[0m \u001b[0;34m\u001b[0m\u001b[0m\n\u001b[1;32m     63\u001b[0m \u001b[0;34m\u001b[0m\u001b[0m\n",
      "\u001b[0;32m~/opt/anaconda3/lib/python3.8/site-packages/requests/sessions.py\u001b[0m in \u001b[0;36mrequest\u001b[0;34m(self, method, url, params, data, headers, cookies, files, auth, timeout, allow_redirects, proxies, hooks, stream, verify, cert, json)\u001b[0m\n\u001b[1;32m    528\u001b[0m         }\n\u001b[1;32m    529\u001b[0m         \u001b[0msend_kwargs\u001b[0m\u001b[0;34m.\u001b[0m\u001b[0mupdate\u001b[0m\u001b[0;34m(\u001b[0m\u001b[0msettings\u001b[0m\u001b[0;34m)\u001b[0m\u001b[0;34m\u001b[0m\u001b[0;34m\u001b[0m\u001b[0m\n\u001b[0;32m--> 530\u001b[0;31m         \u001b[0mresp\u001b[0m \u001b[0;34m=\u001b[0m \u001b[0mself\u001b[0m\u001b[0;34m.\u001b[0m\u001b[0msend\u001b[0m\u001b[0;34m(\u001b[0m\u001b[0mprep\u001b[0m\u001b[0;34m,\u001b[0m \u001b[0;34m**\u001b[0m\u001b[0msend_kwargs\u001b[0m\u001b[0;34m)\u001b[0m\u001b[0;34m\u001b[0m\u001b[0;34m\u001b[0m\u001b[0m\n\u001b[0m\u001b[1;32m    531\u001b[0m \u001b[0;34m\u001b[0m\u001b[0m\n\u001b[1;32m    532\u001b[0m         \u001b[0;32mreturn\u001b[0m \u001b[0mresp\u001b[0m\u001b[0;34m\u001b[0m\u001b[0;34m\u001b[0m\u001b[0m\n",
      "\u001b[0;32m~/opt/anaconda3/lib/python3.8/site-packages/requests/sessions.py\u001b[0m in \u001b[0;36msend\u001b[0;34m(self, request, **kwargs)\u001b[0m\n\u001b[1;32m    641\u001b[0m \u001b[0;34m\u001b[0m\u001b[0m\n\u001b[1;32m    642\u001b[0m         \u001b[0;31m# Send the request\u001b[0m\u001b[0;34m\u001b[0m\u001b[0;34m\u001b[0m\u001b[0;34m\u001b[0m\u001b[0m\n\u001b[0;32m--> 643\u001b[0;31m         \u001b[0mr\u001b[0m \u001b[0;34m=\u001b[0m \u001b[0madapter\u001b[0m\u001b[0;34m.\u001b[0m\u001b[0msend\u001b[0m\u001b[0;34m(\u001b[0m\u001b[0mrequest\u001b[0m\u001b[0;34m,\u001b[0m \u001b[0;34m**\u001b[0m\u001b[0mkwargs\u001b[0m\u001b[0;34m)\u001b[0m\u001b[0;34m\u001b[0m\u001b[0;34m\u001b[0m\u001b[0m\n\u001b[0m\u001b[1;32m    644\u001b[0m \u001b[0;34m\u001b[0m\u001b[0m\n\u001b[1;32m    645\u001b[0m         \u001b[0;31m# Total elapsed time of the request (approximately)\u001b[0m\u001b[0;34m\u001b[0m\u001b[0;34m\u001b[0m\u001b[0;34m\u001b[0m\u001b[0m\n",
      "\u001b[0;32m~/opt/anaconda3/lib/python3.8/site-packages/requests/adapters.py\u001b[0m in \u001b[0;36msend\u001b[0;34m(self, request, stream, timeout, verify, cert, proxies)\u001b[0m\n\u001b[1;32m    437\u001b[0m         \u001b[0;32mtry\u001b[0m\u001b[0;34m:\u001b[0m\u001b[0;34m\u001b[0m\u001b[0;34m\u001b[0m\u001b[0m\n\u001b[1;32m    438\u001b[0m             \u001b[0;32mif\u001b[0m \u001b[0;32mnot\u001b[0m \u001b[0mchunked\u001b[0m\u001b[0;34m:\u001b[0m\u001b[0;34m\u001b[0m\u001b[0;34m\u001b[0m\u001b[0m\n\u001b[0;32m--> 439\u001b[0;31m                 resp = conn.urlopen(\n\u001b[0m\u001b[1;32m    440\u001b[0m                     \u001b[0mmethod\u001b[0m\u001b[0;34m=\u001b[0m\u001b[0mrequest\u001b[0m\u001b[0;34m.\u001b[0m\u001b[0mmethod\u001b[0m\u001b[0;34m,\u001b[0m\u001b[0;34m\u001b[0m\u001b[0;34m\u001b[0m\u001b[0m\n\u001b[1;32m    441\u001b[0m                     \u001b[0murl\u001b[0m\u001b[0;34m=\u001b[0m\u001b[0murl\u001b[0m\u001b[0;34m,\u001b[0m\u001b[0;34m\u001b[0m\u001b[0;34m\u001b[0m\u001b[0m\n",
      "\u001b[0;32m~/opt/anaconda3/lib/python3.8/site-packages/urllib3/connectionpool.py\u001b[0m in \u001b[0;36murlopen\u001b[0;34m(self, method, url, body, headers, retries, redirect, assert_same_host, timeout, pool_timeout, release_conn, chunked, body_pos, **response_kw)\u001b[0m\n\u001b[1;32m    668\u001b[0m \u001b[0;34m\u001b[0m\u001b[0m\n\u001b[1;32m    669\u001b[0m             \u001b[0;31m# Make the request on the httplib connection object.\u001b[0m\u001b[0;34m\u001b[0m\u001b[0;34m\u001b[0m\u001b[0;34m\u001b[0m\u001b[0m\n\u001b[0;32m--> 670\u001b[0;31m             httplib_response = self._make_request(\n\u001b[0m\u001b[1;32m    671\u001b[0m                 \u001b[0mconn\u001b[0m\u001b[0;34m,\u001b[0m\u001b[0;34m\u001b[0m\u001b[0;34m\u001b[0m\u001b[0m\n\u001b[1;32m    672\u001b[0m                 \u001b[0mmethod\u001b[0m\u001b[0;34m,\u001b[0m\u001b[0;34m\u001b[0m\u001b[0;34m\u001b[0m\u001b[0m\n",
      "\u001b[0;32m~/opt/anaconda3/lib/python3.8/site-packages/urllib3/connectionpool.py\u001b[0m in \u001b[0;36m_make_request\u001b[0;34m(self, conn, method, url, timeout, chunked, **httplib_request_kw)\u001b[0m\n\u001b[1;32m    424\u001b[0m                     \u001b[0;31m# Python 3 (including for exceptions like SystemExit).\u001b[0m\u001b[0;34m\u001b[0m\u001b[0;34m\u001b[0m\u001b[0;34m\u001b[0m\u001b[0m\n\u001b[1;32m    425\u001b[0m                     \u001b[0;31m# Otherwise it looks like a bug in the code.\u001b[0m\u001b[0;34m\u001b[0m\u001b[0;34m\u001b[0m\u001b[0;34m\u001b[0m\u001b[0m\n\u001b[0;32m--> 426\u001b[0;31m                     \u001b[0msix\u001b[0m\u001b[0;34m.\u001b[0m\u001b[0mraise_from\u001b[0m\u001b[0;34m(\u001b[0m\u001b[0me\u001b[0m\u001b[0;34m,\u001b[0m \u001b[0;32mNone\u001b[0m\u001b[0;34m)\u001b[0m\u001b[0;34m\u001b[0m\u001b[0;34m\u001b[0m\u001b[0m\n\u001b[0m\u001b[1;32m    427\u001b[0m         \u001b[0;32mexcept\u001b[0m \u001b[0;34m(\u001b[0m\u001b[0mSocketTimeout\u001b[0m\u001b[0;34m,\u001b[0m \u001b[0mBaseSSLError\u001b[0m\u001b[0;34m,\u001b[0m \u001b[0mSocketError\u001b[0m\u001b[0;34m)\u001b[0m \u001b[0;32mas\u001b[0m \u001b[0me\u001b[0m\u001b[0;34m:\u001b[0m\u001b[0;34m\u001b[0m\u001b[0;34m\u001b[0m\u001b[0m\n\u001b[1;32m    428\u001b[0m             \u001b[0mself\u001b[0m\u001b[0;34m.\u001b[0m\u001b[0m_raise_timeout\u001b[0m\u001b[0;34m(\u001b[0m\u001b[0merr\u001b[0m\u001b[0;34m=\u001b[0m\u001b[0me\u001b[0m\u001b[0;34m,\u001b[0m \u001b[0murl\u001b[0m\u001b[0;34m=\u001b[0m\u001b[0murl\u001b[0m\u001b[0;34m,\u001b[0m \u001b[0mtimeout_value\u001b[0m\u001b[0;34m=\u001b[0m\u001b[0mread_timeout\u001b[0m\u001b[0;34m)\u001b[0m\u001b[0;34m\u001b[0m\u001b[0;34m\u001b[0m\u001b[0m\n",
      "\u001b[0;32m~/opt/anaconda3/lib/python3.8/site-packages/urllib3/packages/six.py\u001b[0m in \u001b[0;36mraise_from\u001b[0;34m(value, from_value)\u001b[0m\n",
      "\u001b[0;32m~/opt/anaconda3/lib/python3.8/site-packages/urllib3/connectionpool.py\u001b[0m in \u001b[0;36m_make_request\u001b[0;34m(self, conn, method, url, timeout, chunked, **httplib_request_kw)\u001b[0m\n\u001b[1;32m    419\u001b[0m                 \u001b[0;31m# Python 3\u001b[0m\u001b[0;34m\u001b[0m\u001b[0;34m\u001b[0m\u001b[0;34m\u001b[0m\u001b[0m\n\u001b[1;32m    420\u001b[0m                 \u001b[0;32mtry\u001b[0m\u001b[0;34m:\u001b[0m\u001b[0;34m\u001b[0m\u001b[0;34m\u001b[0m\u001b[0m\n\u001b[0;32m--> 421\u001b[0;31m                     \u001b[0mhttplib_response\u001b[0m \u001b[0;34m=\u001b[0m \u001b[0mconn\u001b[0m\u001b[0;34m.\u001b[0m\u001b[0mgetresponse\u001b[0m\u001b[0;34m(\u001b[0m\u001b[0;34m)\u001b[0m\u001b[0;34m\u001b[0m\u001b[0;34m\u001b[0m\u001b[0m\n\u001b[0m\u001b[1;32m    422\u001b[0m                 \u001b[0;32mexcept\u001b[0m \u001b[0mBaseException\u001b[0m \u001b[0;32mas\u001b[0m \u001b[0me\u001b[0m\u001b[0;34m:\u001b[0m\u001b[0;34m\u001b[0m\u001b[0;34m\u001b[0m\u001b[0m\n\u001b[1;32m    423\u001b[0m                     \u001b[0;31m# Remove the TypeError from the exception chain in\u001b[0m\u001b[0;34m\u001b[0m\u001b[0;34m\u001b[0m\u001b[0;34m\u001b[0m\u001b[0m\n",
      "\u001b[0;32m~/opt/anaconda3/lib/python3.8/http/client.py\u001b[0m in \u001b[0;36mgetresponse\u001b[0;34m(self)\u001b[0m\n\u001b[1;32m   1345\u001b[0m         \u001b[0;32mtry\u001b[0m\u001b[0;34m:\u001b[0m\u001b[0;34m\u001b[0m\u001b[0;34m\u001b[0m\u001b[0m\n\u001b[1;32m   1346\u001b[0m             \u001b[0;32mtry\u001b[0m\u001b[0;34m:\u001b[0m\u001b[0;34m\u001b[0m\u001b[0;34m\u001b[0m\u001b[0m\n\u001b[0;32m-> 1347\u001b[0;31m                 \u001b[0mresponse\u001b[0m\u001b[0;34m.\u001b[0m\u001b[0mbegin\u001b[0m\u001b[0;34m(\u001b[0m\u001b[0;34m)\u001b[0m\u001b[0;34m\u001b[0m\u001b[0;34m\u001b[0m\u001b[0m\n\u001b[0m\u001b[1;32m   1348\u001b[0m             \u001b[0;32mexcept\u001b[0m \u001b[0mConnectionError\u001b[0m\u001b[0;34m:\u001b[0m\u001b[0;34m\u001b[0m\u001b[0;34m\u001b[0m\u001b[0m\n\u001b[1;32m   1349\u001b[0m                 \u001b[0mself\u001b[0m\u001b[0;34m.\u001b[0m\u001b[0mclose\u001b[0m\u001b[0;34m(\u001b[0m\u001b[0;34m)\u001b[0m\u001b[0;34m\u001b[0m\u001b[0;34m\u001b[0m\u001b[0m\n",
      "\u001b[0;32m~/opt/anaconda3/lib/python3.8/http/client.py\u001b[0m in \u001b[0;36mbegin\u001b[0;34m(self)\u001b[0m\n\u001b[1;32m    305\u001b[0m         \u001b[0;31m# read until we get a non-100 response\u001b[0m\u001b[0;34m\u001b[0m\u001b[0;34m\u001b[0m\u001b[0;34m\u001b[0m\u001b[0m\n\u001b[1;32m    306\u001b[0m         \u001b[0;32mwhile\u001b[0m \u001b[0;32mTrue\u001b[0m\u001b[0;34m:\u001b[0m\u001b[0;34m\u001b[0m\u001b[0;34m\u001b[0m\u001b[0m\n\u001b[0;32m--> 307\u001b[0;31m             \u001b[0mversion\u001b[0m\u001b[0;34m,\u001b[0m \u001b[0mstatus\u001b[0m\u001b[0;34m,\u001b[0m \u001b[0mreason\u001b[0m \u001b[0;34m=\u001b[0m \u001b[0mself\u001b[0m\u001b[0;34m.\u001b[0m\u001b[0m_read_status\u001b[0m\u001b[0;34m(\u001b[0m\u001b[0;34m)\u001b[0m\u001b[0;34m\u001b[0m\u001b[0;34m\u001b[0m\u001b[0m\n\u001b[0m\u001b[1;32m    308\u001b[0m             \u001b[0;32mif\u001b[0m \u001b[0mstatus\u001b[0m \u001b[0;34m!=\u001b[0m \u001b[0mCONTINUE\u001b[0m\u001b[0;34m:\u001b[0m\u001b[0;34m\u001b[0m\u001b[0;34m\u001b[0m\u001b[0m\n\u001b[1;32m    309\u001b[0m                 \u001b[0;32mbreak\u001b[0m\u001b[0;34m\u001b[0m\u001b[0;34m\u001b[0m\u001b[0m\n",
      "\u001b[0;32m~/opt/anaconda3/lib/python3.8/http/client.py\u001b[0m in \u001b[0;36m_read_status\u001b[0;34m(self)\u001b[0m\n\u001b[1;32m    266\u001b[0m \u001b[0;34m\u001b[0m\u001b[0m\n\u001b[1;32m    267\u001b[0m     \u001b[0;32mdef\u001b[0m \u001b[0m_read_status\u001b[0m\u001b[0;34m(\u001b[0m\u001b[0mself\u001b[0m\u001b[0;34m)\u001b[0m\u001b[0;34m:\u001b[0m\u001b[0;34m\u001b[0m\u001b[0;34m\u001b[0m\u001b[0m\n\u001b[0;32m--> 268\u001b[0;31m         \u001b[0mline\u001b[0m \u001b[0;34m=\u001b[0m \u001b[0mstr\u001b[0m\u001b[0;34m(\u001b[0m\u001b[0mself\u001b[0m\u001b[0;34m.\u001b[0m\u001b[0mfp\u001b[0m\u001b[0;34m.\u001b[0m\u001b[0mreadline\u001b[0m\u001b[0;34m(\u001b[0m\u001b[0m_MAXLINE\u001b[0m \u001b[0;34m+\u001b[0m \u001b[0;36m1\u001b[0m\u001b[0;34m)\u001b[0m\u001b[0;34m,\u001b[0m \u001b[0;34m\"iso-8859-1\"\u001b[0m\u001b[0;34m)\u001b[0m\u001b[0;34m\u001b[0m\u001b[0;34m\u001b[0m\u001b[0m\n\u001b[0m\u001b[1;32m    269\u001b[0m         \u001b[0;32mif\u001b[0m \u001b[0mlen\u001b[0m\u001b[0;34m(\u001b[0m\u001b[0mline\u001b[0m\u001b[0;34m)\u001b[0m \u001b[0;34m>\u001b[0m \u001b[0m_MAXLINE\u001b[0m\u001b[0;34m:\u001b[0m\u001b[0;34m\u001b[0m\u001b[0;34m\u001b[0m\u001b[0m\n\u001b[1;32m    270\u001b[0m             \u001b[0;32mraise\u001b[0m \u001b[0mLineTooLong\u001b[0m\u001b[0;34m(\u001b[0m\u001b[0;34m\"status line\"\u001b[0m\u001b[0;34m)\u001b[0m\u001b[0;34m\u001b[0m\u001b[0;34m\u001b[0m\u001b[0m\n",
      "\u001b[0;32m~/opt/anaconda3/lib/python3.8/socket.py\u001b[0m in \u001b[0;36mreadinto\u001b[0;34m(self, b)\u001b[0m\n\u001b[1;32m    667\u001b[0m         \u001b[0;32mwhile\u001b[0m \u001b[0;32mTrue\u001b[0m\u001b[0;34m:\u001b[0m\u001b[0;34m\u001b[0m\u001b[0;34m\u001b[0m\u001b[0m\n\u001b[1;32m    668\u001b[0m             \u001b[0;32mtry\u001b[0m\u001b[0;34m:\u001b[0m\u001b[0;34m\u001b[0m\u001b[0;34m\u001b[0m\u001b[0m\n\u001b[0;32m--> 669\u001b[0;31m                 \u001b[0;32mreturn\u001b[0m \u001b[0mself\u001b[0m\u001b[0;34m.\u001b[0m\u001b[0m_sock\u001b[0m\u001b[0;34m.\u001b[0m\u001b[0mrecv_into\u001b[0m\u001b[0;34m(\u001b[0m\u001b[0mb\u001b[0m\u001b[0;34m)\u001b[0m\u001b[0;34m\u001b[0m\u001b[0;34m\u001b[0m\u001b[0m\n\u001b[0m\u001b[1;32m    670\u001b[0m             \u001b[0;32mexcept\u001b[0m \u001b[0mtimeout\u001b[0m\u001b[0;34m:\u001b[0m\u001b[0;34m\u001b[0m\u001b[0;34m\u001b[0m\u001b[0m\n\u001b[1;32m    671\u001b[0m                 \u001b[0mself\u001b[0m\u001b[0;34m.\u001b[0m\u001b[0m_timeout_occurred\u001b[0m \u001b[0;34m=\u001b[0m \u001b[0;32mTrue\u001b[0m\u001b[0;34m\u001b[0m\u001b[0;34m\u001b[0m\u001b[0m\n",
      "\u001b[0;32m~/opt/anaconda3/lib/python3.8/ssl.py\u001b[0m in \u001b[0;36mrecv_into\u001b[0;34m(self, buffer, nbytes, flags)\u001b[0m\n\u001b[1;32m   1239\u001b[0m                   \u001b[0;34m\"non-zero flags not allowed in calls to recv_into() on %s\"\u001b[0m \u001b[0;34m%\u001b[0m\u001b[0;34m\u001b[0m\u001b[0;34m\u001b[0m\u001b[0m\n\u001b[1;32m   1240\u001b[0m                   self.__class__)\n\u001b[0;32m-> 1241\u001b[0;31m             \u001b[0;32mreturn\u001b[0m \u001b[0mself\u001b[0m\u001b[0;34m.\u001b[0m\u001b[0mread\u001b[0m\u001b[0;34m(\u001b[0m\u001b[0mnbytes\u001b[0m\u001b[0;34m,\u001b[0m \u001b[0mbuffer\u001b[0m\u001b[0;34m)\u001b[0m\u001b[0;34m\u001b[0m\u001b[0;34m\u001b[0m\u001b[0m\n\u001b[0m\u001b[1;32m   1242\u001b[0m         \u001b[0;32melse\u001b[0m\u001b[0;34m:\u001b[0m\u001b[0;34m\u001b[0m\u001b[0;34m\u001b[0m\u001b[0m\n\u001b[1;32m   1243\u001b[0m             \u001b[0;32mreturn\u001b[0m \u001b[0msuper\u001b[0m\u001b[0;34m(\u001b[0m\u001b[0;34m)\u001b[0m\u001b[0;34m.\u001b[0m\u001b[0mrecv_into\u001b[0m\u001b[0;34m(\u001b[0m\u001b[0mbuffer\u001b[0m\u001b[0;34m,\u001b[0m \u001b[0mnbytes\u001b[0m\u001b[0;34m,\u001b[0m \u001b[0mflags\u001b[0m\u001b[0;34m)\u001b[0m\u001b[0;34m\u001b[0m\u001b[0;34m\u001b[0m\u001b[0m\n",
      "\u001b[0;32m~/opt/anaconda3/lib/python3.8/ssl.py\u001b[0m in \u001b[0;36mread\u001b[0;34m(self, len, buffer)\u001b[0m\n\u001b[1;32m   1097\u001b[0m         \u001b[0;32mtry\u001b[0m\u001b[0;34m:\u001b[0m\u001b[0;34m\u001b[0m\u001b[0;34m\u001b[0m\u001b[0m\n\u001b[1;32m   1098\u001b[0m             \u001b[0;32mif\u001b[0m \u001b[0mbuffer\u001b[0m \u001b[0;32mis\u001b[0m \u001b[0;32mnot\u001b[0m \u001b[0;32mNone\u001b[0m\u001b[0;34m:\u001b[0m\u001b[0;34m\u001b[0m\u001b[0;34m\u001b[0m\u001b[0m\n\u001b[0;32m-> 1099\u001b[0;31m                 \u001b[0;32mreturn\u001b[0m \u001b[0mself\u001b[0m\u001b[0;34m.\u001b[0m\u001b[0m_sslobj\u001b[0m\u001b[0;34m.\u001b[0m\u001b[0mread\u001b[0m\u001b[0;34m(\u001b[0m\u001b[0mlen\u001b[0m\u001b[0;34m,\u001b[0m \u001b[0mbuffer\u001b[0m\u001b[0;34m)\u001b[0m\u001b[0;34m\u001b[0m\u001b[0;34m\u001b[0m\u001b[0m\n\u001b[0m\u001b[1;32m   1100\u001b[0m             \u001b[0;32melse\u001b[0m\u001b[0;34m:\u001b[0m\u001b[0;34m\u001b[0m\u001b[0;34m\u001b[0m\u001b[0m\n\u001b[1;32m   1101\u001b[0m                 \u001b[0;32mreturn\u001b[0m \u001b[0mself\u001b[0m\u001b[0;34m.\u001b[0m\u001b[0m_sslobj\u001b[0m\u001b[0;34m.\u001b[0m\u001b[0mread\u001b[0m\u001b[0;34m(\u001b[0m\u001b[0mlen\u001b[0m\u001b[0;34m)\u001b[0m\u001b[0;34m\u001b[0m\u001b[0;34m\u001b[0m\u001b[0m\n",
      "\u001b[0;31mKeyboardInterrupt\u001b[0m: "
     ]
    }
   ],
   "source": [
    "result = []\n",
    "for i in range(len(url_list)):\n",
    "    url = url_list[i]\n",
    "    print(i)\n",
    "    result += extract_reviews(url)\n",
    "    \n"
   ]
  },
  {
   "cell_type": "code",
   "execution_count": null,
   "metadata": {},
   "outputs": [],
   "source": [
    "len(result)"
   ]
  },
  {
   "cell_type": "code",
   "execution_count": null,
   "metadata": {},
   "outputs": [],
   "source": [
    "result[1]"
   ]
  },
  {
   "cell_type": "code",
   "execution_count": null,
   "metadata": {},
   "outputs": [],
   "source": [
    "import csv\n",
    "with open('reviews.csv', 'w') as f:\n",
    "    writer = csv.writer(f) \n",
    "    writer.writerow(result)\n",
    "    f.close()\n"
   ]
  },
  {
   "cell_type": "code",
   "execution_count": null,
   "metadata": {},
   "outputs": [],
   "source": [
    "with open('reviews.csv', 'r') as f:\n",
    "    reader = csv.reader(f) \n",
    "    for row in reader:\n",
    "        text = ','.join(row)\n",
    "        \n",
    "type(text)\n"
   ]
  },
  {
   "cell_type": "code",
   "execution_count": null,
   "metadata": {},
   "outputs": [],
   "source": [
    "data = [1,2,3,4,5]\n",
    "with open('numbers.csv', 'w') as f:\n",
    "    writer = csv.writer(f) \n",
    "    writer.writerow(data)\n",
    "    f.close()\n",
    "    \n"
   ]
  },
  {
   "cell_type": "code",
   "execution_count": null,
   "metadata": {},
   "outputs": [],
   "source": [
    "with open('numbers.csv', 'r') as f:\n",
    "    reader = csv.reader(f) \n",
    "    for row in reader:\n",
    "        str1 = ','.join(row)\n",
    "\n",
    "str1\n",
    "        "
   ]
  },
  {
   "cell_type": "code",
   "execution_count": null,
   "metadata": {},
   "outputs": [],
   "source": []
  }
 ],
 "metadata": {
  "kernelspec": {
   "display_name": "Python 3",
   "language": "python",
   "name": "python3"
  },
  "language_info": {
   "codemirror_mode": {
    "name": "ipython",
    "version": 3
   },
   "file_extension": ".py",
   "mimetype": "text/x-python",
   "name": "python",
   "nbconvert_exporter": "python",
   "pygments_lexer": "ipython3",
   "version": "3.8.5"
  }
 },
 "nbformat": 4,
 "nbformat_minor": 4
}
